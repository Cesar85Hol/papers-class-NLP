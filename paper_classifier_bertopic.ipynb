{
 "cells": [
  {
   "cell_type": "markdown",
   "metadata": {},
   "source": [
    "# **ADSP - P8 PROJECT** - scientific papers classifier based on NLP\n",
    "---\n",
    "**CANDIDATES** \n",
    "\n",
    "GILLIO FRANCESCO\n",
    "\n",
    "SEMINARIO YRIGOYEN CESAR AUGUSTO\n",
    "\n",
    "**COURSE** Applied Data Science Project\n",
    "\n",
    "**University** Politecnico di Torino - Italy\n"
   ]
  },
  {
   "cell_type": "markdown",
   "metadata": {},
   "source": [
    "## Project description\n",
    "\n",
    "**BertTopic** is used to create a semi-supervised model with labels available\n",
    "\n",
    "**Dataset** can be downloaded fro hugginface at the link: [Wiki Medical Terms](https://huggingface.co/datasets/gamino/wiki_medical_terms)"
   ]
  },
  {
   "cell_type": "markdown",
   "metadata": {},
   "source": [
    " ## <span style=\"font-family:Verdana; color:blue\">  0. TO DO "
   ]
  },
  {
   "cell_type": "markdown",
   "metadata": {},
   "source": [
    "<span style=\"font-family:Verdana; color:blue\">\n",
    "\n",
    "- download similar dataset from hugging-face to start practicing\n",
    "- data cleaning\n",
    "- create embeddings\n",
    "- export embeddings\n",
    "- start with the model\n",
    "***"
   ]
  },
  {
   "cell_type": "markdown",
   "metadata": {},
   "source": [
    "## 1. Exploring the dataset"
   ]
  },
  {
   "cell_type": "code",
   "execution_count": 1,
   "metadata": {},
   "outputs": [
    {
     "name": "stderr",
     "output_type": "stream",
     "text": [
      "/Users/cesaraugustoseminarioyrigoyen/.local/lib/python3.11/site-packages/tqdm/auto.py:21: TqdmWarning: IProgress not found. Please update jupyter and ipywidgets. See https://ipywidgets.readthedocs.io/en/stable/user_install.html\n",
      "  from .autonotebook import tqdm as notebook_tqdm\n"
     ]
    },
    {
     "name": "stdout",
     "output_type": "stream",
     "text": [
      "N° wiki terms: 6861\n"
     ]
    }
   ],
   "source": [
    "from datasets import load_dataset\n",
    "import tqdm as notebook_tqdm\n",
    "\n",
    "dataset = load_dataset(\"gamino/wiki_medical_terms\")\n",
    "terms_number= len(dataset['train'])\n",
    "print(f\"N° wiki terms: {terms_number}\")"
   ]
  },
  {
   "cell_type": "code",
   "execution_count": 2,
   "metadata": {},
   "outputs": [
    {
     "name": "stdout",
     "output_type": "stream",
     "text": [
      "wiki_term: Breast cyst\n",
      "text: A breast cyst is a fluid-filled sac within the breast. One breast can have one or more breast cysts. They are often described as round or oval lumps with distinct edges. In texture, a breast cyst usually feels like a soft grape or a water-filled balloon, but sometimes a breast cyst feels firm.Breast cysts can be painful and may be worrisome but are generally benign. They are most common in pre-menopausal women in their 30s or 40s. They usually disappear after menopause, but may persist or reappear when using hormone therapy. They are also common in adolescents.\n",
      "Breast cysts can be part of fibrocystic disease. The pain and swelling is usually worse in the second half of the menstrual cycle or during pregnancy.\n",
      "Treating breast cysts is usually not necessary unless they are painful or cause discomfort. In most cases, the discomfort they cause may be alleviated by draining the fluid from the cyst. The cysts form as a result of the growth of the milk glands and their size may range from smaller than a pea to larger than a ping pong ball. While some large cysts feel like lumps, most cysts cannot be identified during physical examinations.\n",
      "Breast cysts are not to be confused with \"milk cysts\" (galactoceles), which usually appear during weaning.\n",
      "\n",
      "Signs and symptoms\n",
      "Signs and symptoms of breast cysts include: \n",
      "\n",
      "A smooth, easily movable round or oval breast lump with distinct edges\n",
      "Breast pain or tenderness in the area of the lump\n",
      "Increased lump size and tenderness just before menstruation\n",
      "Decreased lump size and resolution of other signs and symptoms after menstruation\n",
      "Having one or many simple breast cysts does not increase a persons risk of breast cancer.Lumps in the breast are often not found during self-examinations or physical exams. However, in some cases they can be felt at touch, especially if they are larger.\n",
      "Breasts are usually lumpy or nodular as a result of the hormonal changes that women go through during their menstrual cycle. However, new breast lumps should always be referred to a specialist.\n",
      "Cysts can also be confused with infections that form on the nipple or the areola. A common cyst look-alike is a localised infection of a duct in the nipple. These can happen whether youre breast feeding or not, (if you are breast feeding it could also be a bleb) this becomes a bump that may then start to look yellow and white (pus filled). Check with your doctor if you are unsure or have other symptoms that are worrying you.\n",
      "\n",
      "Fluid leaking from a cyst, as may happen due to puncture or vigorous compression during mammography, or due to seat belt injury in the course of an automobile accident, may trigger an aseptic inflammation in the surrounding breast tissue.\n",
      "\n",
      "Diagnosis\n",
      "The cystic nature of a breast lump can be confirmed by ultrasound examination, aspiration (removal of contents with needle), or mammogram. Ultrasound can also show if the cyst contains solid nodules, a sign that the lesion may be pre-cancerous or cancerous. Examination by a cytopathologist of the fluid aspirated from the cyst may also help with this diagnosis. In particular, it should be sent to a laboratory for testing if it is blood-stained.\n",
      "Commonly, cysts are detected with the help of mammograms. However, the medical history and physical examination also play an important role in establishing an accurate diagnosis. During these tests, the doctor will try to find out as much information as possible regarding the symptoms the patient has experienced, their intensity and duration and the physical examination is performed regularly to check for other abnormalities that may exist within the breast.\n",
      "As mentioned above, cysts are often undetectable at touch. Therefore, a mammogram can provide valuable and clear images of the breast tissue. Generally, if there is any abnormality within the breast tissue, it will be shown on the mammogram. There are two types of mammograms available. One of them is primarily used in screening, and are ordered for patients who do not show any symptoms and these are called screening mammograms. Diagnostic mammograms are used on patients who developed certain symptoms of a breast condition or in patients whose screening mammograms showed abnormalities.\n",
      "Patients suspected of breast cysts will normally be given a diagnosing mammogram, although they are not suspected of cancer. This type of mammogram provides the doctor with the possibility of performing a breast ultrasound at the same time and this is the reason why they are often preferred over the screening mammograms. Breast ultrasound is considered the best option when diagnosing breast cysts because it is 95 to 100% accurate, it provides a clear image on the cysts appearance (simple or complex) and it may also distinguish between solid lumps and fluid-filled cysts, which a mammogram cannot do. Breast ultrasounds are performed with the help of a handheld medical instrument which is placed on the skin, after a special type of fluid has been applied on it. The instruments picks up the echo resulted from the sound waves it sends to the breast. These echoes are transmitted to a computer which translates it into a picture.\n",
      "Breast cysts may remain stable for many years or may resolve spontaneously. Most simple cysts are benign and do not require any treatment or further diagnostic workup. Some complex cysts may require further diagnostic measures such as fine needle aspiration or biopsy to exclude breast cancer however the overwhelming majority is of benign nature. Aspiration both diagnoses and removes cysts at the same time. That is, cysts will usually resolve on their own after the fluid is drained. Otherwise, if the lump is not a cyst, the fluid aspirated may contain blood or there may not be fluid at all. Whereas in the first case, the fluid is sent to the laboratory for further examination, the latter circumstance is a sign that the breast lump is solid. This type of tumor needs to be biopsied in order to determine whether it is malignant or benign.\n",
      "\n",
      "Prevention\n",
      "The development of breast cysts may be prevented to some degree, according to the majority of the specialists. The recommended measures one is able to take in order to avoid the formation of the cysts include practicing good health and avoiding certain medications, eating a balanced diet, taking necessary vitamins and supplements, getting exercise, and avoiding stress.Although caffeine consumption does not have a scientifically proved connection with the process of cyst development, many women claim that their symptoms are relieved if avoiding it. Some doctors recommend reducing the amount of caffeine in ones diet in terms of both beverages and foods (such as chocolate). Also reducing salt intake may help in alleviating the symptoms of breast cysts, although, again, there is no scientific linkage between these two. Excessive sugar consumption as well as undetected food allergies, such as to gluten or lactose, may also contribute to cyst development.\n",
      "\n",
      "Treatment\n",
      "Breast cysts do not require treatment unless a cyst is large and painful or otherwise uncomfortable. In that case, draining the fluid from a breast cyst can ease symptoms.Nipple cysts (commonly duct infections) may benefit from a hot compress to draw out the pus and antibacterial cream. These infected ducts typically clear up within a few days.\n",
      "Typical treatment involves a Needle aspiration biopsy which is typically done with a 10 cc syringe attached to a fine needle aspiration needle.  Fine needle aspiration allows retrieval of cytological samples that can be sent for pathological review to determine if the cyst is benign or malignant.  Aspirated cysts often recur (come back); definitive treatment may require surgery. During an excisional biopsy an incision is made around the mass creating a superior and inferior flap. The mass is dissected out followed by confirmation of hemostasis. Once hemostasis is confirmed the wound is closed with an absorbable suture. The mass is then sent to pathology for review. Pathology can help determine if the surgeon needs to dissect a bigger margin. Draining the fluid and then waiting for the cyst to resolve is the main treatment applied in these cases. Moreover, if cysts are aspirated and the fluid looks normal, they do not require any other medical attention apart from following-up to make sure they have completely disappeared. Hormone therapy, by the means of oral contraceptives, is sometimes prescribed to reduce their recurrence and to regulate the menstrual cycle of the patient (which is likely to cause them in the first place). Danazol may also be prescribed to treat this condition and it is usually considered in patients on whom the non-medical treatment fails and the symptoms are intense.\n",
      "Surgical removal of a breast cyst is necessary only in a few unusual circumstances. If an uncomfortable breast cyst recurs month after month, or if a breast cyst contains blood-tinged fluid and displays other worrisome signs, surgery may be considered.\n",
      "\n",
      "Epidemiology\n",
      "It is estimated that 7% of women in the western world develop palpable breast cysts.In males, the occurrence of breast cysts is rare and may (but need not) be an indication of malignancy.\n",
      "\n",
      "Cysts and bra support\n",
      "Some women experience breast pain, especially when engaging in vigorous physical activity. A properly fitted sports bra, which compresses or encapsulates breast tissue, is designed to reduce pain caused by exercise.\n",
      "\n",
      "References\n",
      "\n",
      "\n",
      "== External links ==\n"
     ]
    },
    {
     "data": {
      "text/plain": [
       "\"\\nthere are more items per page: --> space for creating different sections in the document: enrich the dictionary\\n- Description (no label but first paragraph,maybe 2 \\n to split)\\n- Signs and symptoms\\n- Cause\\n- Risk factors\\n- Pathophysiology\\n- Diagnosis\\n- Detection in body fluids\\n- Prevention\\n- Limitation of availability\\n- References\\n# md_terms=list(dataset['train']['page_title'])\\n# md_wiki=[item.split('\\n')[0] for item in dataset['train']['page_text']]\\n# data_dict={}\\n# for i in range(len(md_terms)):\\n#     data_dict['idx']=i\\n#     data_dict['md_term']=md_terms[i]\\n# #     data_dict['md_fulltext']=md_wiki[i]\\n# print(len(md_terms))\\n# print(len(md_wiki))\\n#df=pd.DataFrame([dataset['train']['page_title'],dataset['train']['page_text']], columns=['disease','description'])\\n\""
      ]
     },
     "execution_count": 2,
     "metadata": {},
     "output_type": "execute_result"
    }
   ],
   "source": [
    "import pandas as pd\n",
    "i=595\n",
    "\n",
    "item_ex=dataset['train']['page_title'][i]\n",
    "text_ex=dataset['train']['page_text'][i]\n",
    "print(f\"wiki_term: {item_ex}\")\n",
    "print(f\"text: {text_ex}\")\n",
    "\n",
    "'''\n",
    "there are more items per page: --> space for creating different sections in the document: enrich the dictionary\n",
    "- Description (no label but first paragraph,maybe 2 \\n to split)\n",
    "- Signs and symptoms\n",
    "- Cause\n",
    "- Risk factors\n",
    "- Pathophysiology\n",
    "- Diagnosis\n",
    "- Detection in body fluids\n",
    "- Prevention\n",
    "- Limitation of availability\n",
    "- References\n",
    "# md_terms=list(dataset['train']['page_title'])\n",
    "# md_wiki=[item.split('\\n')[0] for item in dataset['train']['page_text']]\n",
    "# data_dict={}\n",
    "# for i in range(len(md_terms)):\n",
    "#     data_dict['idx']=i\n",
    "#     data_dict['md_term']=md_terms[i]\n",
    "# #     data_dict['md_fulltext']=md_wiki[i]\n",
    "# print(len(md_terms))\n",
    "# print(len(md_wiki))\n",
    "#df=pd.DataFrame([dataset['train']['page_title'],dataset['train']['page_text']], columns=['disease','description'])\n",
    "'''\n",
    "#no test/val data since these are all documents no classified --\n",
    "#will be interesting to know the clusters built by BERTopic\n",
    "\n"
   ]
  },
  {
   "cell_type": "markdown",
   "metadata": {},
   "source": [
    "## 2. Preparing the dataset for BERTopic architecture"
   ]
  },
  {
   "cell_type": "code",
   "execution_count": null,
   "metadata": {},
   "outputs": [],
   "source": [
    "# functions preparing the dataset for BERTopic architecture\n"
   ]
  },
  {
   "cell_type": "code",
   "execution_count": null,
   "metadata": {},
   "outputs": [],
   "source": [
    "\n"
   ]
  },
  {
   "cell_type": "code",
   "execution_count": 7,
   "metadata": {},
   "outputs": [
    {
     "name": "stdout",
     "output_type": "stream",
     "text": [
      "initial size: (6861, 3)\n",
      "new size of items after removing duplicates: (6762, 3)\n",
      "new size of items after removing na or empty sign & symptomps: (2255, 3)\n"
     ]
    }
   ],
   "source": [
    "#CLEANING DUPLICATES & NAN SECTION VALUES\n",
    "\n",
    "print(f\"initial size: {md_terms_df.shape}\")\n",
    "# removing duplicates\n",
    "md_terms_ss_df=md_terms_df.drop_duplicates(subset=['medical_term'], keep='first')\n",
    "print(f\"new size of items after removing duplicates: {md_terms_ss_df.shape}\")\n",
    "\n",
    "#removing nan or empty sign & symptomps terms\n",
    "md_terms_ss_df=md_terms_ss_df[md_terms_ss_df['signs_and_symptoms'].astype(bool)]\n",
    "# md_terms_df=md_terms_df.dropna( )\n",
    "print(f\"new size of items after removing na or empty sign & symptomps: {md_terms_ss_df.shape}\")\n",
    "md_terms_ss_df.to_excel('diseases_correct.xlsx')\n",
    "# md_terms_ss_df=add_groundtruth(\"ICD-11_class.xlsx\",md_terms_ss_df)"
   ]
  },
  {
   "cell_type": "code",
   "execution_count": null,
   "metadata": {},
   "outputs": [],
   "source": [
    "''' wordcloud example\n",
    "from wordcloud import WordCloud\n",
    "import matplotlib.pyplot as plt\n",
    "\n",
    "text = md_terms_ss_df['description'][52]\n",
    "\n",
    "x, y = np.ogrid[:300, :300]\n",
    "\n",
    "mask = (x - 150) ** 2 + (y - 150) ** 2 > 130 ** 2\n",
    "mask = 255 * mask.astype(int)\n",
    "\n",
    "\n",
    "wc = WordCloud(background_color=\"white\", repeat=True, mask=mask)\n",
    "wc.generate(text)\n",
    "\n",
    "plt.axis(\"off\")\n",
    "plt.imshow(wc, interpolation=\"bilinear\")\n",
    "plt.show()\n",
    "'''"
   ]
  },
  {
   "cell_type": "code",
   "execution_count": 8,
   "metadata": {},
   "outputs": [
    {
     "name": "stdout",
     "output_type": "stream",
     "text": [
      "dictionary terms (useful to be classificated)\n",
      "{\n",
      "    \"idx\": 140,\n",
      "    \"md_term\": \"Type 1 diabetes\",\n",
      "    \"md_description\": \"Type 1 diabetes (T1D), formerly known as juvenile diabetes, is an autoimmune disease that originates when cells that make insulin (beta cells) are destroyed by the immune system. Insulin is a hormone required for the cells to use blood sugar for energy and it helps regulate glucose levels in the bloodstream. Before treatment this results in high blood sugar levels in the body. The common symptoms of this elevated blood sugar are frequent urination, increased thirst, increased hunger, weight loss, and other serious complications. Additional symptoms may include blurry vision, tiredness, and slow wound healing. Symptoms typically develop over a short period of time, often a matter of weeks.The cause of type 1 diabetes is unknown, but it is believed to involve a combination of genetic and environmental factors. The underlying mechanism involves an autoimmune destruction of the insulin-producing beta cells in the pancreas. Diabetes is diagnosed by testing the level of sugar or glycated hemoglobin (HbA1C) in the blood. Type 1 diabetes can be distinguished from type 2 by testing for the presence of autoantibodies.There is no known way to prevent type 1 diabetes. Treatment with insulin is required for survival. Insulin therapy is usually given by injection just under the skin but can also be delivered by an insulin pump. A diabetic diet and exercise are important parts of management. If left untreated, diabetes can cause many complications. Complications of relatively rapid onset include diabetic ketoacidosis and nonketotic hyperosmolar coma. Long-term complications include heart disease, stroke, kidney failure, foot ulcers and damage to the eyes. Furthermore, since insulin lowers blood sugar levels, complications may arise from low blood sugar if more insulin is taken than necessary.Type 1 diabetes makes up an estimated 5\\u201310% of all diabetes cases. The number of people affected globally is unknown, although it is estimated that about 80,000 children develop the disease each year. Within the United States the number of people affected is estimated at one to three million. Rates of disease vary widely, with approximately one new case per 100,000 per year in East Asia and Latin America and around 30 new cases per 100,000 per year in Scandinavia and Kuwait. It typically begins in children and young adults.\",\n",
      "    \"Sign and Symptoms\": \"Type 1 diabetes begins suddenly, typically in childhood or adolescence. The major sign of type 1 diabetes is very high blood sugar, which typically manifests in children as a few days to weeks of polyuria (increased urination), polydipsia (increased thirst), and weight loss. Children may also experience increased appetite, blurred vision, bedwetting, recurrent skin infections, candidiasis of the perineum, irritability, and performance issues at school. Adults with type 1 diabetes tend to have more varied symptoms that come on over months rather than days to weeks.Prolonged lack of insulin can also result in diabetic ketoacidosis, characterized by persistent fatigue, dry or flushed skin, abdominal pain, nausea or vomiting, confusion, trouble breathing, and a fruity breath odor. Blood and urine tests reveal unusually high glucose and ketones in the blood and urine. Untreated ketoacidosis can rapidly progress to loss of consciousness, coma, and death. The percentage of children whose type 1 diabetes begins with an episode of diabetic ketoacidosis varies widely by geography, as low as 15% in parts of Europe and North America, and as high as 80% in the developing world.. \"\n",
      "}\n"
     ]
    }
   ],
   "source": [
    "#PREPARING DATASET FOT BERTOPIC\n",
    "import json\n",
    "data_dict=[]\n",
    "for idx in md_terms_ss_df.index:\n",
    "    tmp_dict={}\n",
    "    tmp_dict['idx']=idx\n",
    "    tmp_dict['md_term']=md_terms_ss_df['medical_term'][idx]\n",
    "    tmp_dict['md_description']=md_terms_ss_df['description'][idx]\n",
    "    tmp_dict['Sign and Symptoms']=create_paragraph(md_terms_ss_df['signs_and_symptoms'][idx])\n",
    "    data_dict.append(tmp_dict)\n",
    "    \n",
    "print(\"dictionary terms (useful to be classificated)\")\n",
    "print(json.dumps(data_dict[50],indent=4))\n",
    "#print(wiki_description[md_terms_ss_df['medical_term'][50]])\n",
    "# s2=create_paragraph(possible_signs_syntomps[1])\n",
    "# print(possible_signs_syntomps[1])\n",
    "# print(f\"as paragraph: {s2}\")"
   ]
  },
  {
   "cell_type": "code",
   "execution_count": 10,
   "metadata": {},
   "outputs": [
    {
     "name": "stdout",
     "output_type": "stream",
     "text": [
      "2255\n"
     ]
    }
   ],
   "source": [
    "# disease_terms=[]\n",
    "# disease_descriptions=[]\n",
    "# disease_sign_syntomps=[]\n",
    "# i=0\n",
    "# for syntomp in signs_symptoms:\n",
    "#     if(syntomp!=[]):\n",
    "#         disease_terms.append(wiki_terms[i])\n",
    "#         disease_descriptions.append(wiki_description[i].split('\\n')[0] )\n",
    "#         disease_sign_syntomps.append(syntomp)\n",
    "#         i+=1\n",
    "# data_dict_2={'medical_term':disease_terms,'description':disease_descriptions,'signs_and_symptoms':disease_sign_syntomps}\n",
    "# diseases_df=pd.DataFrame(data_dict_2)       \n",
    "# print(diseases_df.head(2))\n",
    "# print(f\"{len(disease_sign_syntomps)} diseases found in the dataset\")\n",
    "# diseases_df.to_excel('diseases.xlsx')\n",
    "# syntomps_as_paragrapgh=[create_paragraph(s) for s in disease_sign_syntomps]\n",
    "symtomps_as_paragraph=[]\n",
    "symtomps_as_paragraph=[create_paragraph(s) for s in md_terms_ss_df['signs_and_symptoms']]\n",
    "print(len(symtomps_as_paragraph))\n"
   ]
  },
  {
   "cell_type": "markdown",
   "metadata": {},
   "source": [
    "## 3. Setting up base BERTopic model "
   ]
  },
  {
   "cell_type": "markdown",
   "metadata": {},
   "source": [
    "### 3.1 Precalculate embeddings\n"
   ]
  },
  {
   "cell_type": "code",
   "execution_count": 11,
   "metadata": {},
   "outputs": [],
   "source": [
    "from sentence_transformers import SentenceTransformer\n",
    "\n",
    "# Pre-calculate embeddings\n",
    "embedding_model = SentenceTransformer(\"sentence-transformers/all-MiniLM-L6-v2\")"
   ]
  },
  {
   "cell_type": "code",
   "execution_count": 12,
   "metadata": {},
   "outputs": [
    {
     "name": "stderr",
     "output_type": "stream",
     "text": [
      "Batches: 100%|██████████| 71/71 [05:55<00:00,  5.01s/it]\n"
     ]
    }
   ],
   "source": [
    "embeddings = embedding_model.encode(symtomps_as_paragraph, show_progress_bar=True)"
   ]
  },
  {
   "cell_type": "markdown",
   "metadata": {},
   "source": [
    "### 3.2 Setting up bertopic blocks"
   ]
  },
  {
   "cell_type": "code",
   "execution_count": 14,
   "metadata": {},
   "outputs": [],
   "source": [
    "#!pip install 'umap-learn==0.3.10'\n",
    "from umap import UMAP\n",
    "umap_model = UMAP(n_neighbors=20, n_components=5, min_dist=0.0, metric='cosine', random_state=42)"
   ]
  },
  {
   "cell_type": "code",
   "execution_count": 15,
   "metadata": {},
   "outputs": [],
   "source": [
    "from hdbscan import HDBSCAN\n",
    "hdbscan_model = HDBSCAN(min_cluster_size=20, metric='euclidean', cluster_selection_method='eom', prediction_data=True)"
   ]
  },
  {
   "cell_type": "code",
   "execution_count": 62,
   "metadata": {},
   "outputs": [],
   "source": [
    "from sklearn.feature_extraction.text import CountVectorizer\n",
    "from sklearn.feature_extraction import text\n",
    "additional_stopwords=['Signs','signs','Sign', 'sign', 'Symptoms','symptoms','Symptom','symptom','include','affected','people','features','patients','disease','present','common','usually'] #'syndrome', disease, patient, patients\n",
    "stop_words_mod=list(text.ENGLISH_STOP_WORDS)+additional_stopwords\n",
    "vectorizer_model = CountVectorizer(stop_words=stop_words_mod, min_df=1, ngram_range=(1, 2))\n",
    "# vectorizer_model = CountVectorizer(stop_words=\"english\", min_df=2, ngram_range=(1, 2))"
   ]
  },
  {
   "cell_type": "markdown",
   "metadata": {},
   "source": [
    "### 3.3 DEFINING representation models"
   ]
  },
  {
   "cell_type": "code",
   "execution_count": 17,
   "metadata": {},
   "outputs": [],
   "source": [
    "#!pip install typing-extensions --upgrade\n",
    "\n",
    "import openai\n",
    "import bertopic\n",
    "from bertopic.representation import KeyBERTInspired, MaximalMarginalRelevance, OpenAI, PartOfSpeech\n",
    "#from spacy import parts_of_speech\n",
    "# KeyBERT\n",
    "keybert_model = KeyBERTInspired()\n",
    "\n",
    "# Part-of-Speech\n",
    "#pos_model = PartOfSpeech(\"en_core_web_sm\")\n",
    "# MMR\n",
    "mmr_model = MaximalMarginalRelevance(diversity=0.3)\n",
    "\n",
    "# GPT-3.5\n",
    "prompt = \"\"\"\n",
    "I have a topic that contains the following documents:\n",
    "[DOCUMENTS]\n",
    "The topic is described by the following keywords: [KEYWORDS]\n",
    "\n",
    "Based on the information above, extract a short but highly descriptive topic label of at most 5 words. Make sure it is in the following format:\n",
    "topic: <topic label>\n",
    "\"\"\"\n",
    "client = openai.OpenAI(api_key=\"sk-...\")\n",
    "#openai_model = OpenAI(client, model=\"gpt-3.5-turbo\", exponential_backoff=True, chat=True, prompt=prompt)\n",
    "\n",
    "# All representation models\n",
    "representation_model = {\n",
    "    \"KeyBERT\": keybert_model,\n",
    "    # \"OpenAI\": openai_model,  # Uncomment if you will use OpenAI\n",
    "    \"MMR\": mmr_model,\n",
    "    #\"POS\": pos_model\n",
    "}"
   ]
  },
  {
   "cell_type": "markdown",
   "metadata": {},
   "source": [
    "## 4. Model exploration"
   ]
  },
  {
   "cell_type": "markdown",
   "metadata": {},
   "source": [
    "### Tests: \n",
    "HDBSCAN - choose reasonable number of topics\n",
    "\n",
    "\n",
    "Vectorizer tests\n",
    "- mindf=1 : changes just group 12: war--- to veteran.sle, war, gulf. # of topics are the same. SLe is the most representative doc, it's autoimmune disease\n"
   ]
  },
  {
   "cell_type": "code",
   "execution_count": 69,
   "metadata": {},
   "outputs": [
    {
     "name": "stderr",
     "output_type": "stream",
     "text": [
      "2024-02-18 22:59:19,437 - BERTopic - Reduced dimensionality\n",
      "2024-02-18 22:59:19,504 - BERTopic - Clustered reduced embeddings\n"
     ]
    },
    {
     "name": "stdout",
     "output_type": "stream",
     "text": [
      "size (1, 3) analyzed\n"
     ]
    }
   ],
   "source": [
    "from bertopic import BERTopic\n",
    "from sklearn.cluster import KMeans\n",
    "#put here the block to study in order to understand behaviors\n",
    "# list_to_check=range(20,160,10)\n",
    "list_to_check=[(1,3)]\n",
    "\n",
    "params=[]\n",
    "# list_to_check=range(140,160,10)\n",
    "for size in list_to_check:#reversed(list_to_check):\n",
    "  # hdbscan_model = HDBSCAN(min_cluster_size=size, metric='euclidean', cluster_selection_method='eom', prediction_data=True)\n",
    "  vectorizer_model = CountVectorizer(stop_words=stop_words_mod, min_df=1, ngram_range=size)\n",
    "  # hdbscan_model= KMeans(n_clusters=size)\n",
    "  topic_model = BERTopic(\n",
    "\n",
    "  # Pipeline models\n",
    "  embedding_model=embedding_model,\n",
    "  umap_model=umap_model,\n",
    "  hdbscan_model=hdbscan_model,\n",
    "  vectorizer_model=vectorizer_model,\n",
    "  representation_model=representation_model,\n",
    "\n",
    "  # Hyperparameters\n",
    "  top_n_words=10,\n",
    "  verbose=True\n",
    ")\n",
    "  topics, probs = topic_model.fit_transform(symtomps_as_paragraph, embeddings)\n",
    "  print(f\"size {size} analyzed\")\n",
    "  a=topic_model.get_topic_freq()\n",
    "  # a['index_old']=a.index\n",
    "  b=topic_model.get_topic_info()['Name']\n",
    "  a.reset_index(inplace=True)\n",
    "  b.reset_index(drop=True)\n",
    "  a=pd.concat([a,b],axis=1)\n",
    "  params.append(a)    \n",
    "  topic_model.get_topic_info()"
   ]
  },
  {
   "cell_type": "code",
   "execution_count": null,
   "metadata": {},
   "outputs": [],
   "source": [
    "topic_model.get_topic_info()\n",
    "# params[13].head()"
   ]
  },
  {
   "cell_type": "code",
   "execution_count": null,
   "metadata": {},
   "outputs": [],
   "source": [
    "topic_model.get_representative_docs(15)"
   ]
  },
  {
   "cell_type": "markdown",
   "metadata": {},
   "source": [
    "### saving model"
   ]
  },
  {
   "cell_type": "code",
   "execution_count": 60,
   "metadata": {},
   "outputs": [],
   "source": [
    "embedding_model = \"sentence-transformers/all-MiniLM-L6-v2\"\n",
    "topic_model.save(\"./model_dir/hdbscan\", serialization=\"safetensors\", save_ctfidf=True, save_embedding_model=embedding_model)"
   ]
  },
  {
   "cell_type": "markdown",
   "metadata": {},
   "source": [
    "### Accuracy Calculation\n",
    "- find metrics - remember ICD11 per clustering"
   ]
  },
  {
   "cell_type": "code",
   "execution_count": 26,
   "metadata": {},
   "outputs": [],
   "source": []
  },
  {
   "cell_type": "code",
   "execution_count": 29,
   "metadata": {},
   "outputs": [],
   "source": [
    "\n"
   ]
  },
  {
   "cell_type": "code",
   "execution_count": null,
   "metadata": {},
   "outputs": [],
   "source": [
    "\n"
   ]
  },
  {
   "cell_type": "markdown",
   "metadata": {},
   "source": [
    "#### OPEC evaluation"
   ]
  },
  {
   "cell_type": "code",
   "execution_count": 74,
   "metadata": {},
   "outputs": [],
   "source": [
    "#creating dataset ready for opec\n",
    "\n"
   ]
  },
  {
   "cell_type": "markdown",
   "metadata": {},
   "source": [
    "### Creating plots"
   ]
  },
  {
   "cell_type": "code",
   "execution_count": 35,
   "metadata": {},
   "outputs": [],
   "source": [
    "%matplotlib inline\n"
   ]
  },
  {
   "cell_type": "code",
   "execution_count": null,
   "metadata": {},
   "outputs": [],
   "source": [
    "\n",
    "\n"
   ]
  },
  {
   "cell_type": "code",
   "execution_count": null,
   "metadata": {},
   "outputs": [],
   "source": []
  },
  {
   "cell_type": "markdown",
   "metadata": {},
   "source": []
  },
  {
   "cell_type": "code",
   "execution_count": null,
   "metadata": {},
   "outputs": [],
   "source": []
  },
  {
   "cell_type": "markdown",
   "metadata": {},
   "source": [
    "### Model visualization: topics and documents"
   ]
  },
  {
   "cell_type": "code",
   "execution_count": null,
   "metadata": {},
   "outputs": [],
   "source": [
    "topic_model.visualize_topics()"
   ]
  },
  {
   "cell_type": "code",
   "execution_count": null,
   "metadata": {},
   "outputs": [],
   "source": []
  },
  {
   "cell_type": "code",
   "execution_count": null,
   "metadata": {},
   "outputs": [],
   "source": []
  },
  {
   "cell_type": "code",
   "execution_count": null,
   "metadata": {},
   "outputs": [],
   "source": []
  },
  {
   "cell_type": "code",
   "execution_count": null,
   "metadata": {},
   "outputs": [],
   "source": []
  },
  {
   "cell_type": "code",
   "execution_count": null,
   "metadata": {},
   "outputs": [],
   "source": [
    "topic_model.visualize_hierarchy()"
   ]
  },
  {
   "cell_type": "code",
   "execution_count": null,
   "metadata": {},
   "outputs": [],
   "source": [
    "# Documents\n",
    "from umap import UMAP\n",
    "reduced_embeddings = UMAP(n_neighbors=10, n_components=2, min_dist=0.0, metric='cosine').fit_transform(embeddings)\n",
    "# Visualize the documents in 2-dimensional space and show the titles on hover instead of the abstracts\n",
    "# NOTE: You can hide the hover with `hide_document_hover=True` which is especially helpful if you have a large dataset\n",
    "labels=md_terms_ss_df['medical_term'].to_list()\n",
    "topic_model.visualize_documents(labels, reduced_embeddings=reduced_embeddings)"
   ]
  }
 ],
 "metadata": {
  "kernelspec": {
   "display_name": "DLNPenv",
   "language": "python",
   "name": "python3"
  },
  "language_info": {
   "codemirror_mode": {
    "name": "ipython",
    "version": 3
   },
   "file_extension": ".py",
   "mimetype": "text/x-python",
   "name": "python",
   "nbconvert_exporter": "python",
   "pygments_lexer": "ipython3",
   "version": "3.11.7"
  }
 },
 "nbformat": 4,
 "nbformat_minor": 2
}
