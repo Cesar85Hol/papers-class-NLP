# **Tutorial** - BERTopic Best Practices
import numpy as np
