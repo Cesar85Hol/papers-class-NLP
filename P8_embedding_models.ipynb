{
  "cells": [
    {
      "cell_type": "markdown",
      "metadata": {
        "id": "Y0RIUh43Hlki"
      },
      "source": [
        "# **ADSP - P8 PROJECT** - scientific papers classifier based on NLP\n",
        "---\n",
        "**CANDIDATES**\n",
        "\n",
        "GILLIO FRANCESCO\n",
        "\n",
        "SEMINARIO YRIGOYEN CESAR AUGUSTO\n",
        "\n",
        "**COURSE** Applied Data Science Project\n",
        "\n",
        "**University** Politecnico di Torino - Italy\n"
      ]
    },
    {
      "cell_type": "markdown",
      "metadata": {
        "id": "djYmfMmHHlkj"
      },
      "source": [
        "## Project description\n",
        "\n",
        "**BertTopic** is used to create a semi-supervised model with labels available\n",
        "\n",
        "**Dataset for testing** can be downloaded fro hugginface at the link: [dhiruHF papers multilabeled](https://huggingface.co/datasets/dhiruHF/research_paper_multi_label_data_balanced)\n",
        "\n",
        "**Dataset for the project** is contained in the input_data folder, called: articles_2023.csv"
      ]
    },
    {
      "cell_type": "markdown",
      "metadata": {
        "id": "UBKZYzDvHlkj"
      },
      "source": [
        " ## <span style=\"font-family:Verdana; color:blue\">  0. TO DO"
      ]
    },
    {
      "cell_type": "markdown",
      "metadata": {
        "id": "JWTSOVEYHlkj"
      },
      "source": [
        "<span style=\"font-family:Verdana; color:blue\">\n",
        "\n",
        "- download similar dataset from hugging-face to start - DONE\n",
        "- data cleaning - DONE\n",
        "- create embeddings - DONE\n",
        "- export embeddings - DONE\n",
        "- start with the model - IN PROGRESS\n",
        "***"
      ]
    },
    {
      "cell_type": "markdown",
      "metadata": {
        "id": "CfO8yL9xHlkj"
      },
      "source": [
        "## 1. Exploring the dataset"
      ]
    },
    {
      "cell_type": "code",
      "source": [
        "%%capture\n",
        "#!pip install bertopic\n",
        "!pip install datasets\n",
        "#!pip install openai\n",
        "import tqdm as notebook_tqdm\n",
        "from tqdm.autonotebook import tqdm, trange\n",
        "\n",
        "import pandas as pd\n",
        "import numpy as np\n",
        "import time as Time"
      ],
      "metadata": {
        "id": "gyIEojFpHqBW"
      },
      "execution_count": 1,
      "outputs": []
    },
    {
      "cell_type": "markdown",
      "source": [
        "### 1.1 Exploring similar dataset\n",
        "\n",
        "\n"
      ],
      "metadata": {
        "id": "Wc41IW_eAhow"
      }
    },
    {
      "cell_type": "code",
      "execution_count": null,
      "metadata": {
        "colab": {
          "base_uri": "https://localhost:8080/",
          "height": 238,
          "referenced_widgets": [
            "eb5ab33a533b4d8480365f1de68aa79a",
            "99293c51536b4aae8770607ff7659c39",
            "ba6c02546117440d9d45ca6b3da1e2e6",
            "799f026bd71b47a8b3e9808d65aac921",
            "b10ca08a5e3d41f6b81e8dae9bfd3dc3",
            "58932a2e5c074ebb97e277ecb7f82b4a",
            "13cdec9d21d1415eabad02e88b6cdd88",
            "dac84823ec8240fe8ea9d4dc5c633c1c",
            "aa7aa7e72cd54ca7b477f8c339a24447",
            "eff9e3e57d81411e8da1880340737113",
            "51276bfbefc44d52a22c86242c5e2c2f",
            "631283a04c674ef1b996d0b23374ad20",
            "78125fce708e4f3fa081ce735eca90a7",
            "589f194040444c5680698884f3e747cd",
            "670317b6396d4281a893ddd443e67c05",
            "e7909abedc174842894113c28bf22166",
            "b23af09058c74f469f7d5ec0771b06ca",
            "96a0d1e384064acab934978d7026259a",
            "548c10bfc7df4f68aa5ec9f363771e52",
            "351f623f8a9a4ffabb2c183cc0b63cf6",
            "8b382e6cd79c47a29c737e5c6e4c563d",
            "0d76c876a5a2482ebba43f6e16988c2c",
            "c3f3755f25144e17b7fd38fe7bbff314",
            "2d698ec394c94427b219c23acaa57937",
            "3443f27c3ecd4341a2158937f94044f8",
            "8b8300113de1494da33d3735bf5ef78a",
            "079ab66b83a1495c956aaa867cd568fd",
            "e3f18c7bc0284272b308156195c03439",
            "ec3380495bba41f7a2f3a4a0b63cb0e0",
            "fac0c0afef374a089fe1655d08f854d3",
            "84817fe545814d29b6fcb250cae49248",
            "3783b861a8be45349e1ed0f92915dcfb",
            "f357a7b842da4d56a98a4231b4437055"
          ]
        },
        "id": "vMZLEoH-Hlkk",
        "outputId": "78551b02-ba56-41d3-b6ce-32ff47b0be02"
      },
      "outputs": [
        {
          "output_type": "stream",
          "name": "stderr",
          "text": [
            "/usr/local/lib/python3.10/dist-packages/huggingface_hub/utils/_token.py:89: UserWarning: \n",
            "The secret `HF_TOKEN` does not exist in your Colab secrets.\n",
            "To authenticate with the Hugging Face Hub, create a token in your settings tab (https://huggingface.co/settings/tokens), set it as secret in your Google Colab and restart your session.\n",
            "You will be able to reuse this secret in all of your notebooks.\n",
            "Please note that authentication is recommended but still optional to access public models or datasets.\n",
            "  warnings.warn(\n"
          ]
        },
        {
          "output_type": "display_data",
          "data": {
            "text/plain": [
              "README.md:   0%|          | 0.00/382 [00:00<?, ?B/s]"
            ],
            "application/vnd.jupyter.widget-view+json": {
              "version_major": 2,
              "version_minor": 0,
              "model_id": "eb5ab33a533b4d8480365f1de68aa79a"
            }
          },
          "metadata": {}
        },
        {
          "output_type": "display_data",
          "data": {
            "text/plain": [
              "(…)-00000-of-00001-6cb8c751614cff33.parquet:   0%|          | 0.00/1.36M [00:00<?, ?B/s]"
            ],
            "application/vnd.jupyter.widget-view+json": {
              "version_major": 2,
              "version_minor": 0,
              "model_id": "631283a04c674ef1b996d0b23374ad20"
            }
          },
          "metadata": {}
        },
        {
          "output_type": "display_data",
          "data": {
            "text/plain": [
              "Generating train split:   0%|          | 0/1985 [00:00<?, ? examples/s]"
            ],
            "application/vnd.jupyter.widget-view+json": {
              "version_major": 2,
              "version_minor": 0,
              "model_id": "c3f3755f25144e17b7fd38fe7bbff314"
            }
          },
          "metadata": {}
        },
        {
          "output_type": "stream",
          "name": "stdout",
          "text": [
            "N° wiki terms: 1985\n"
          ]
        }
      ],
      "source": [
        "from datasets import load_dataset\n",
        "\n",
        "dataset = load_dataset(\"dhiruHF/research_paper_multi_label_data_balanced\")\n",
        "terms_number= len(dataset['train'])\n",
        "print(f\"N° wiki terms: {terms_number}\")\n"
      ]
    },
    {
      "cell_type": "code",
      "source": [
        "def get_chapters(text):\n",
        "    chapters = text.split('###')[2]\n",
        "    labels = text.split('###')[3]\n",
        "    labels = labels.split(':')[1]\n",
        "    title=chapters.split('\\n')[2].split(':')[1]\n",
        "    abstract=chapters.split('\\n')[3:]\n",
        "    abstract[0]=abstract[0][9:]\n",
        "    delimiter=\"\\n\"\n",
        "    abstract=delimiter.join(abstract)\n",
        "    #labels=labels.split(',')\n",
        "    #labels=[label.strip() for label in labels]\n",
        "    item_dict={}\n",
        "    item_dict['title']=title\n",
        "    item_dict['abstract']=abstract\n",
        "    item_dict['labels']=labels\n",
        "    return item_dict\n"
      ],
      "metadata": {
        "id": "Ui9YVxQHKkEn"
      },
      "execution_count": null,
      "outputs": []
    },
    {
      "cell_type": "code",
      "source": [
        "item=get_chapters(dataset['train'][0]['text'])\n",
        "print(item['title'])"
      ],
      "metadata": {
        "colab": {
          "base_uri": "https://localhost:8080/"
        },
        "id": "4bL-pWJ_NQbq",
        "outputId": "b76694b7-508b-4397-b248-49f263aed5e3"
      },
      "execution_count": null,
      "outputs": [
        {
          "output_type": "stream",
          "name": "stdout",
          "text": [
            " Reconstructing Subject-Specific Effect Maps\n"
          ]
        }
      ]
    },
    {
      "cell_type": "code",
      "source": [
        "dataset['train'][0]['text'].split('###')[2]"
      ],
      "metadata": {
        "colab": {
          "base_uri": "https://localhost:8080/",
          "height": 122
        },
        "id": "KKpvGrCjIJoB",
        "outputId": "61b158ef-3bc5-4fdb-dd9f-8e70d271147d"
      },
      "execution_count": null,
      "outputs": [
        {
          "output_type": "execute_result",
          "data": {
            "text/plain": [
              "\"RESEARCH PAPER:\\n\\nTitle: Reconstructing Subject-Specific Effect Maps\\nAbstract:   Predictive models allow subject-specific inference when analyzing disease\\nrelated alterations in neuroimaging data. Given a subject's data, inference can\\nbe made at two levels: global, i.e. identifiying condition presence for the\\nsubject, and local, i.e. detecting condition effect on each individual\\nmeasurement extracted from the subject's data. While global inference is widely\\nused, local inference, which can be used to form subject-specific effect maps,\\nis rarely used because existing models often yield noisy detections composed of\\ndispersed isolated islands. In this article, we propose a reconstruction\\nmethod, named RSM, to improve subject-specific detections of predictive\\nmodeling approaches and in particular, binary classifiers. RSM specifically\\naims to reduce noise due to sampling error associated with using a finite\\nsample of examples to train classifiers. The proposed method is a wrapper-type\\nalgorithm that can be used with different binary classifiers in a diagnostic\\nmanner, i.e. without information on condition presence. Reconstruction is posed\\nas a Maximum-A-Posteriori problem with a prior model whose parameters are\\nestimated from training data in a classifier-specific fashion. Experimental\\nevaluation is performed on synthetically generated data and data from the\\nAlzheimer's Disease Neuroimaging Initiative (ADNI) database. Results on\\nsynthetic data demonstrate that using RSM yields higher detection accuracy\\ncompared to using models directly or with bootstrap averaging. Analyses on the\\nADNI dataset show that RSM can also improve correlation between\\nsubject-specific detections in cortical thickness data and non-imaging markers\\nof Alzheimer's Disease (AD), such as the Mini Mental State Examination Score\\nand Cerebrospinal Fluid amyloid-$\\\\beta$ levels. Further reliability studies on\\nthe longitudinal ADNI dataset show improvement on detection reliability when\\nRSM is used.\\n\\n\\n\""
            ],
            "application/vnd.google.colaboratory.intrinsic+json": {
              "type": "string"
            }
          },
          "metadata": {},
          "execution_count": 26
        }
      ]
    },
    {
      "cell_type": "code",
      "source": [
        "#converting in structure dict:{title,abstract,labels}\n",
        "data_dict=[get_chapters(item) for item in dataset['train']['text']]"
      ],
      "metadata": {
        "id": "Wjy0lpybPB4u"
      },
      "execution_count": null,
      "outputs": []
    },
    {
      "cell_type": "code",
      "source": [
        "item=1345\n",
        "print(f\"title:\\n {data_dict[item]['title']}\")\n",
        "print(f\"abstract:\\n {data_dict[item]['abstract']}\")\n",
        "print(f\"labels:\\n {data_dict[item]['labels']}\")"
      ],
      "metadata": {
        "colab": {
          "base_uri": "https://localhost:8080/"
        },
        "id": "fH2a-CH5Plu4",
        "outputId": "213d19a6-a69a-480f-aa3e-e74200c0cbe0"
      },
      "execution_count": null,
      "outputs": [
        {
          "output_type": "stream",
          "name": "stdout",
          "text": [
            "title:\n",
            "  Bounds on the expected size of the maximum agreement subtree for a given tree shape\n",
            "abstract:\n",
            "    We show that the expected size of the maximum agreement subtree of two\n",
            "$n$-leaf trees, uniformly random among all trees with the shape, is\n",
            "$\\Theta(\\sqrt{n})$. To derive the lower bound, we prove a global structural\n",
            "result on a decomposition of rooted binary trees into subgroups of leaves\n",
            "called blobs. To obtain the upper bound, we generalize a first moment argument\n",
            "for random tree distributions that are exchangeable and not necessarily\n",
            "sampling consistent.\n",
            "\n",
            "\n",
            "\n",
            "labels:\n",
            "  ['Quantitative Biology']\n"
          ]
        }
      ]
    },
    {
      "cell_type": "code",
      "execution_count": null,
      "metadata": {
        "colab": {
          "base_uri": "https://localhost:8080/",
          "height": 843
        },
        "id": "prX-RJquHlkk",
        "outputId": "0dffcf38-b4b5-41aa-8edf-31d34b1835cd"
      },
      "outputs": [
        {
          "output_type": "execute_result",
          "data": {
            "text/plain": [
              "<Axes: xlabel='labels'>"
            ]
          },
          "metadata": {},
          "execution_count": 11
        },
        {
          "output_type": "display_data",
          "data": {
            "text/plain": [
              "<Figure size 640x480 with 1 Axes>"
            ],
            "image/png": "[encoded data removed]"
          },
          "metadata": {}
        }
      ],
      "source": [
        "data_df= pd.DataFrame(data_dict)\n",
        "data_df['labels'].value_counts().plot(kind='bar')"
      ]
    },
    {
      "cell_type": "markdown",
      "source": [
        "### 1.2 Exploring article_2023 dataset"
      ],
      "metadata": {
        "id": "czPfRmy6A1RF"
      }
    },
    {
      "cell_type": "code",
      "source": [
        "!git clone https://github.com/Cesar85Hol/papers-class-NLP.git"
      ],
      "metadata": {
        "id": "fqk_XxltBGcl",
        "outputId": "4d214fc4-bc00-4de0-bff4-1008a731599e",
        "colab": {
          "base_uri": "https://localhost:8080/"
        }
      },
      "execution_count": 3,
      "outputs": [
        {
          "output_type": "stream",
          "name": "stdout",
          "text": [
            "Cloning into 'papers-class-NLP'...\n",
            "remote: Enumerating objects: 59, done.\u001b[K\n",
            "remote: Counting objects: 100% (59/59), done.\u001b[K\n",
            "remote: Compressing objects: 100% (57/57), done.\u001b[K\n",
            "remote: Total 59 (delta 24), reused 0 (delta 0), pack-reused 0 (from 0)\u001b[K\n",
            "Receiving objects: 100% (59/59), 10.64 MiB | 11.71 MiB/s, done.\n",
            "Resolving deltas: 100% (24/24), done.\n"
          ]
        }
      ]
    },
    {
      "cell_type": "code",
      "source": [
        "data_df=pd.read_csv('/content/papers-class-NLP/input_data/articles_2023.csv')\n",
        "titles=data_df['Title'].to_list()\n",
        "abstracts=data_df['Abstract'].to_list()\n",
        "labels=data_df['Label'].to_list()"
      ],
      "metadata": {
        "id": "vhQ6ChyYB3al"
      },
      "execution_count": 4,
      "outputs": []
    },
    {
      "cell_type": "code",
      "source": [
        "data_df['Label'].value_counts().plot(kind='bar')"
      ],
      "metadata": {
        "id": "_89UbHIAColD",
        "outputId": "86f59234-72aa-41a2-c09f-60884d8f908d",
        "colab": {
          "base_uri": "https://localhost:8080/",
          "height": 461
        }
      },
      "execution_count": null,
      "outputs": [
        {
          "output_type": "execute_result",
          "data": {
            "text/plain": [
              "<Axes: xlabel='Label'>"
            ]
          },
          "metadata": {},
          "execution_count": 4
        },
        {
          "output_type": "display_data",
          "data": {
            "text/plain": [
              "<Figure size 640x480 with 1 Axes>"
            ],
            "image/png": "[encoded data removed]"
          },
          "metadata": {}
        }
      ]
    },
    {
      "cell_type": "code",
      "source": [
        "print(abstracts[0])"
      ],
      "metadata": {
        "id": "7tGoqZ6vHRgH",
        "outputId": "fc43d87a-ad48-44fd-ed1a-bb6c07e6b3f8",
        "colab": {
          "base_uri": "https://localhost:8080/"
        }
      },
      "execution_count": null,
      "outputs": [
        {
          "output_type": "stream",
          "name": "stdout",
          "text": [
            "PURPOSE: The transition towards adult-focused healthcare comprises a complex process requiring careful, individualized guidance of adolescents with congenital heart disease (CHD). Detailed data on their preferences regarding disease-related information and acquirable transitional skills are mostly lacking. We examined the preferences of CHD adolescents in the early transition stage. METHODS: A cross-sectional descriptive study was performed with adolescents recruited from a transition program. Two questionnaires assessing needs for information and transitional skills were used. Only questionnaires completed in the early transition stage were included. RESULTS: Forty-nine adolescents participated (mean age 15.9 ± 1.2 years, 43% girls). 59% requested information about their heart and previous and/or future surgeries/interventions, 45% about sports and medication, and a maximum of 27% about psychosocial topics. More girls than boys requested surgical information (76% versus 46%; p = 0.04). Adolescents with severely complex CHD more often requested information about medication than those with moderately complex CHD (63% versus 28%; p = 0.02). Older adolescents were less likely to request surgical information (OR = 0.53; 95%CI [0.26-0.88]; p = 0.03). Up to 83% of the adolescents perceived their skills as insufficient, but less than 14% was interested in acquiring skills.    Conclusion: Adolescents were mainly interested in medical topics, followed by lifestyle information. The informational needs tended to decrease with age. Timely gauging individual needs and delivering information, ideally in the early teens, appear important when providing person-tailored transitional care in CHD. Paradoxically, although the transitional skills were low-perceived, there was limited motivation to improve them. This paradox requires further investigation to better tailor transition interventions.     Clinical trial registration: Not applicable. WHAT IS KNOWN: • Transition towards adult life and care requires careful patient guidance. A person-tailored approach is strongly encouraged. However, details on preferences regarding disease-related information and transitional skills are scarce in adolescents with CHD. WHAT IS NEW: • This study showed that adolescents with CHD in early transition mainly need medical-related information. Their informational needs tend to decrease with age necessitating timely gauging for interest and delivering information. Adolescents report a low need to acquire transitional skills despite low self-esteemed skills levels.\n"
          ]
        }
      ]
    },
    {
      "cell_type": "code",
      "source": [
        "#counting words in each abstract to manage embeddings\n",
        "#splitting by string:\n",
        "import matplotlib.pyplot as plt\n",
        "data_df['Abstract_word_count'] = data_df['Abstract'].apply(lambda x: len(str(x).split()))\n",
        "data_df['Title_word_count'] = data_df['Title'].apply(lambda x: len(str(x).split()))\n",
        "\n",
        "#ax=data_df['Abstract_word_count'].hist(bins=20)\n",
        "ax=data_df[['Abstract_word_count','Title_word_count']].hist(bins=10)\n",
        "#data_df[['Abstract_word_count','Title_word_count']].plot(kind='hist',alpha=0.7,bins=10)\n",
        "#plt.xlabel('Word Count')\n",
        "#plt.ylabel('Frequency')\n",
        "#plt.title('Word Count Distribution')\n",
        "#ax.set_xlabel('Word Count')\n",
        "#ax.set_ylabel('Frequency')\n",
        "#ax.set_title('Word Count Distribution')\n"
      ],
      "metadata": {
        "id": "AdPDqOyvDUW1",
        "outputId": "2f021eb3-aa54-4a48-cc11-19881ee13d54",
        "colab": {
          "base_uri": "https://localhost:8080/",
          "height": 452
        }
      },
      "execution_count": 5,
      "outputs": [
        {
          "output_type": "display_data",
          "data": {
            "text/plain": [
              "<Figure size 640x480 with 2 Axes>"
            ],
            "image/png": "[encoded data removed]"
          },
          "metadata": {}
        }
      ]
    },
    {
      "cell_type": "code",
      "source": [
        "#nltk:\n",
        "#it holds punctuation, incase we don't want it use\n",
        "from nltk.tokenize import RegexpTokenizer\n",
        "tokenizer = RegexpTokenizer(r'\\w+')\n",
        "\n",
        "import nltk\n",
        "from nltk.tokenize import word_tokenize\n",
        "from collections import Counter\n",
        "nltk.download('punkt')\n",
        "nltk.download('punkt_tab')\n",
        "words=[len(word_tokenize(str(text))) for text in data_df['Abstract']]\n",
        "data_df['Abstract_word_count_nltk']=words\n",
        "\n",
        "ax=data_df['Abstract_word_count_nltk'].hist(bins=20)\n",
        "ax.set_xlabel('Word Count')\n",
        "ax.set_ylabel('Frequency')\n",
        "ax.set_title('Word Count Distribution - NLTK')"
      ],
      "metadata": {
        "id": "UIFKiwQ1F6l4",
        "outputId": "b06b3774-65af-4b4d-8460-1dcb23125534",
        "colab": {
          "base_uri": "https://localhost:8080/",
          "height": 559
        }
      },
      "execution_count": null,
      "outputs": [
        {
          "output_type": "stream",
          "name": "stderr",
          "text": [
            "[nltk_data] Downloading package punkt to /root/nltk_data...\n",
            "[nltk_data]   Package punkt is already up-to-date!\n",
            "[nltk_data] Downloading package punkt_tab to /root/nltk_data...\n",
            "[nltk_data]   Unzipping tokenizers/punkt_tab.zip.\n"
          ]
        },
        {
          "output_type": "execute_result",
          "data": {
            "text/plain": [
              "Text(0.5, 1.0, 'Word Count Distribution - NLTK')"
            ]
          },
          "metadata": {},
          "execution_count": 8
        },
        {
          "output_type": "display_data",
          "data": {
            "text/plain": [
              "<Figure size 640x480 with 1 Axes>"
            ],
            "image/png": "[encoded data removed]"
          },
          "metadata": {}
        }
      ]
    },
    {
      "cell_type": "markdown",
      "metadata": {
        "id": "LQKdoD3cHlkk"
      },
      "source": [
        "## 2. Preparing the dataset for embeddings"
      ]
    },
    {
      "cell_type": "markdown",
      "source": [
        "### 2.1 Cleaning dataset"
      ],
      "metadata": {
        "id": "Xue5m19QwBR7"
      }
    },
    {
      "cell_type": "code",
      "execution_count": 6,
      "metadata": {
        "colab": {
          "base_uri": "https://localhost:8080/"
        },
        "id": "RTQquHzdHlkl",
        "outputId": "76c3ce66-7e3f-4256-b8b4-0f7a8baa9c91"
      },
      "outputs": [
        {
          "output_type": "stream",
          "name": "stdout",
          "text": [
            "initial size: (1215, 19)\n",
            "new size of items after removing duplicates: (1214, 19)\n"
          ]
        }
      ],
      "source": [
        "# functions preparing the dataset for BERTopic architecture\n",
        "\n",
        "#1. Removing duplicates\n",
        "print(f\"initial size: {data_df.shape}\")\n",
        "data_df_clean=data_df.drop_duplicates(subset=['Title'], keep ='first')\n",
        "print(f\"new size of items after removing duplicates: {data_df_clean.shape}\")\n"
      ]
    },
    {
      "cell_type": "code",
      "execution_count": 7,
      "metadata": {
        "colab": {
          "base_uri": "https://localhost:8080/"
        },
        "id": "2f4lXW1-Hlkl",
        "outputId": "ad47fb25-81fa-4d8d-b8f6-cb978b218ff8"
      },
      "outputs": [
        {
          "output_type": "stream",
          "name": "stdout",
          "text": [
            "total nan Titles in dataset: 0\n",
            "total nan abstracts in dataset: 44\n",
            "total nan Titles in dataset after manage: 0\n",
            "total nan abstracts in dataset after manage: 0\n"
          ]
        }
      ],
      "source": [
        "#2. Managing nan or empty sections\n",
        "tot_nan=data_df_clean['Title'].isnull().sum()\n",
        "print(f\"total nan Titles in dataset: {tot_nan}\")\n",
        "tot_nan=data_df_clean['Abstract'].isnull().sum()\n",
        "print(f\"total nan abstracts in dataset: {tot_nan}\")\n",
        "\n",
        "#saving titles without abstract --> find abstracts and complete dataset\n",
        "#titles_nanAbs=data_df_clean[data_df_clean['Abstract'].isnull()]['Title']#.to_list()\n",
        "#titles_nanAbs.to_excel('titles_nanAbs.xlsx')\n",
        "#print(f\"titles with nan in abstract: {titles_nanAbs}\")\n",
        "\n",
        "#Manage nan _hyp1: if both title and abstract nan -> delete; if just 1 nan, keep item and put an empty string (to allow tokenization)\n",
        "for elem in data_df_clean.index:\n",
        "    if pd.isnull(data_df_clean.at[elem, 'Title']) and pd.isnull(data_df_clean.at[elem, 'Abstract']):\n",
        "        data_df_clean.drop(elem, inplace=True)\n",
        "    elif pd.isnull(data_df_clean.at[elem, 'Title']):\n",
        "        data_df_clean.at[elem, 'Title'] = ''\n",
        "    elif pd.isnull(data_df_clean.at[elem, 'Abstract']):\n",
        "        data_df_clean.at[elem, 'Abstract'] = ''\n",
        "\n",
        "\n",
        "tot_nan=data_df_clean['Title'].isnull().sum()\n",
        "print(f\"total nan Titles in dataset after manage: {tot_nan}\")\n",
        "tot_nan=data_df_clean['Abstract'].isnull().sum()\n",
        "print(f\"total nan abstracts in dataset after manage: {tot_nan}\")\n"
      ]
    },
    {
      "cell_type": "markdown",
      "source": [
        "### 2.2 Managing titles & abstracts"
      ],
      "metadata": {
        "id": "hFwSf2vQwI_S"
      }
    },
    {
      "cell_type": "code",
      "source": [
        "# concatenating title + abstract at text level --> case 1: textjoined\n",
        "data_df_clean['Title_Abstract']=data_df_clean['Title'].astype(str)+' ' +data_df_clean['Abstract'].astype(str)\n",
        "data_df_clean['Title_Abstract_word_count'] = data_df_clean['Title_Abstract'].apply(lambda x: len(x.split()))\n",
        "data_df_clean['Title_Abstract_word_count'].hist(bins=20)\n",
        "print(f\"avg words in Title_Abstract: {data_df_clean['Title_Abstract_word_count'].mean()}\")\n",
        "\n"
      ],
      "metadata": {
        "colab": {
          "base_uri": "https://localhost:8080/",
          "height": 682
        },
        "id": "85DYZqhSwVO3",
        "outputId": "e81ca905-451d-491e-fb07-18f702dd6820"
      },
      "execution_count": 9,
      "outputs": [
        {
          "output_type": "stream",
          "name": "stderr",
          "text": [
            "<ipython-input-9-43bdd96b3f14>:2: SettingWithCopyWarning: \n",
            "A value is trying to be set on a copy of a slice from a DataFrame.\n",
            "Try using .loc[row_indexer,col_indexer] = value instead\n",
            "\n",
            "See the caveats in the documentation: https://pandas.pydata.org/pandas-docs/stable/user_guide/indexing.html#returning-a-view-versus-a-copy\n",
            "  data_df_clean['Title_Abstract']=data_df_clean['Title'].astype(str)+' ' +data_df_clean['Abstract'].astype(str)\n",
            "<ipython-input-9-43bdd96b3f14>:3: SettingWithCopyWarning: \n",
            "A value is trying to be set on a copy of a slice from a DataFrame.\n",
            "Try using .loc[row_indexer,col_indexer] = value instead\n",
            "\n",
            "See the caveats in the documentation: https://pandas.pydata.org/pandas-docs/stable/user_guide/indexing.html#returning-a-view-versus-a-copy\n",
            "  data_df_clean['Title_Abstract_word_count'] = data_df_clean['Title_Abstract'].apply(lambda x: len(x.split()))\n"
          ]
        },
        {
          "output_type": "stream",
          "name": "stdout",
          "text": [
            "avg words in Title_Abstract: 271.7174629324547\n"
          ]
        },
        {
          "output_type": "display_data",
          "data": {
            "text/plain": [
              "<Figure size 640x480 with 1 Axes>"
            ],
            "image/png": "[encoded data removed]"
          },
          "metadata": {}
        }
      ]
    },
    {
      "cell_type": "markdown",
      "metadata": {
        "id": "D6em_DIoHlkl"
      },
      "source": [
        "## 3. Embeddings calculation"
      ]
    },
    {
      "cell_type": "markdown",
      "metadata": {
        "id": "efYp_hCcHlkl"
      },
      "source": [
        "### 3.1 Precalculate embeddings (if loading pass to 3.2)\n"
      ]
    },
    {
      "cell_type": "code",
      "source": [
        "#FUNCTIONS TO JOIN FEATURES OF TITLE & ABSTRACT\n",
        "from sklearn.preprocessing import MinMaxScaler\n",
        "\n",
        "def sum_Embedds(feat1,feat2,mode=0):\n",
        "  '''\n",
        "  mode:0 -> no minmax scaler, data is just added\n",
        "  mode:1 -> minmax scaler applied to each feature\n",
        "  '''\n",
        "  if(mode==0):\n",
        "    combined_features=feat1+feat2\n",
        "  else:\n",
        "    scaler = MinMaxScaler()\n",
        "    feat1_norm = scaler.fit_transform(feat1.reshape(-1, 1)).flatten()\n",
        "    feat2_norm = scaler.fit_transform(feat2.reshape(-1, 1)).flatten()\n",
        "      # Somma\n",
        "    combined_features = feat1_norm + feat2_norm\n",
        "\n",
        "  return combined_features"
      ],
      "metadata": {
        "id": "TG4lCXviJf9H"
      },
      "execution_count": 14,
      "outputs": []
    },
    {
      "cell_type": "code",
      "source": [
        "#previous\n",
        "'''\n",
        "embedding_model_ = SentenceTransformer(\"sentence-transformers/all-MiniLM-L6-v2\")\n",
        "title_embeddings = embedding_model.encode(data_df_clean['Title'].tolist(), show_progress_bar=True)\n",
        "abstract_embeddings = embedding_model.encode(data_df_clean['Abstract'].tolist(), show_progress_bar=True)\n",
        "# saving data\n",
        "#import numpy as np\n",
        "np.save('title_embeddings_all-MiniLM-L6-v2.npy', title_embeddings)\n",
        "np.save('abstract_embeddings_all-MiniLM-L6-v2.npy', abstract_embeddings)\n",
        "data_df_clean.to_pickle('data_df_clean.pkl')\n",
        "embeddings = embedding_model.encode(data_df_clean['Title_Abstract'].tolist(), show_progress_bar=True)\n",
        "'''"
      ],
      "metadata": {
        "id": "l_mMzx0AFXu1"
      },
      "execution_count": null,
      "outputs": []
    },
    {
      "cell_type": "code",
      "execution_count": null,
      "metadata": {
        "id": "_JDCthVtHlkl"
      },
      "outputs": [],
      "source": [
        "from sentence_transformers import SentenceTransformer\n",
        "# Pre-calculate embeddings\n",
        "# _1: all-MiniLM-L6-v2\n",
        "# _2: all-mpnet-base-v2\n",
        "# _3: longformer\n",
        "# _4: neuml/pubmedbert-base-embeddings\n",
        "df_embeddings=data_df_clean[['Title','Abstract','Label']]\n",
        "models=['sentence-transformers/all-MiniLM-L6-v2','sentence-transformers/all-mpnet-base-v2','neuml/pubmedbert-base-embeddings']\n",
        "\n",
        "for model in models:\n",
        "  print(f\"model: {model}\")\n",
        "  embedding_model = SentenceTransformer(model)\n",
        "  start=Time.time()\n",
        "  embeddings = embedding_model.encode(data_df_clean['Title_Abstract'].tolist(), show_progress_bar=True)\n",
        "  end=Time.time()\n",
        "  print(f\"embedding duration: {end-start}\")\n",
        "  df_embeddings[f\"{model.split('/')[1]}_textjoined\"]=list(embeddings)\n",
        "  title_embeddings = embedding_model.encode(data_df_clean['Title'].tolist(), show_progress_bar=True)\n",
        "  abstract_embeddings = embedding_model.encode(data_df_clean['Abstract'].tolist(), show_progress_bar=True)\n",
        "  embeddings=sum_Embedds(title_embeddings,abstract_embeddings)\n",
        "  df_embeddings[f\"{model.split('/')[1]}_sumfeats\"]=list(embeddings)\n",
        "\n"
      ]
    },
    {
      "cell_type": "code",
      "source": [
        "df_embeddings.to_pickle('df_embeddings.pkl')"
      ],
      "metadata": {
        "id": "Y9Q9DEAYRrRY"
      },
      "execution_count": 33,
      "outputs": []
    },
    {
      "cell_type": "markdown",
      "source": [
        "### 3.2 Uploading embeddings"
      ],
      "metadata": {
        "id": "ryogioVkIkdP"
      }
    },
    {
      "cell_type": "code",
      "source": [
        "# first load the files to the drive folder following this process\n",
        "#UNCOMMENT BELOW TO LOAD\n",
        "\n",
        "#!git clone https://github.com/Cesar85Hol/papers-class-NLP.git\n",
        "#title_embeddings=np.load('/content/papers-class-NLP/embeddings/title_embeddings_all-MiniLM-L6-v2.npy')\n",
        "#abstract_embeddings=np.load('/content/papers-class-NLP/embeddings/abstract_embeddings_all-MiniLM-L6-v2.npy')\n",
        "data_df=pd.read_pickle('/content/papers-class-NLP/embeddings/data_df_clean_P8.pkl')\n",
        "df_embeddings=pd.read_pickle('/content/papers-class-NLP/embeddings/df_embeddings.pkl')\n"
      ],
      "metadata": {
        "id": "cJ0GGJwJIScx"
      },
      "execution_count": 21,
      "outputs": []
    },
    {
      "cell_type": "code",
      "source": [
        "print(f\"avg words in abstracts: {data_df['Abstract_word_count'].mean()}\")\n",
        "print(f\"avg words in titles: {data_df['Title_word_count'].mean()}\")"
      ],
      "metadata": {
        "colab": {
          "base_uri": "https://localhost:8080/"
        },
        "id": "gp5bPN-7Kqsh",
        "outputId": "416dee08-5c7a-476e-a584-852b531ac6da"
      },
      "execution_count": 38,
      "outputs": [
        {
          "output_type": "stream",
          "name": "stdout",
          "text": [
            "avg words in abstracts: 256.5971993410214\n",
            "avg words in titles: 15.156507413509061\n"
          ]
        }
      ]
    },
    {
      "cell_type": "markdown",
      "metadata": {
        "id": "yCkbD9dfHlkl"
      },
      "source": [
        "## 4 MLP CLASSIFICATOR"
      ]
    },
    {
      "cell_type": "code",
      "execution_count": 34,
      "metadata": {
        "id": "YqsEotSgHlkl"
      },
      "outputs": [],
      "source": [
        "from sklearn.neural_network import MLPClassifier\n",
        "from sklearn.model_selection import train_test_split\n",
        "from sklearn.metrics import accuracy_score"
      ]
    },
    {
      "cell_type": "code",
      "execution_count": 36,
      "metadata": {
        "id": "sXgJkkz9Hlkm",
        "colab": {
          "base_uri": "https://localhost:8080/"
        },
        "outputId": "3b771c82-3e13-48e3-e91b-5988586f2f38"
      },
      "outputs": [
        {
          "output_type": "stream",
          "name": "stdout",
          "text": [
            "model: all-MiniLM-L6-v2_textjoined\n",
            "{embedd} model Accuracy: 0.9506172839506173\n",
            "classification duration: 1.4921369552612305\n",
            "model: all-MiniLM-L6-v2_sumfeats\n",
            "{embedd} model Accuracy: 0.9670781893004116\n",
            "classification duration: 1.0357341766357422\n",
            "model: all-mpnet-base-v2_textjoined\n",
            "{embedd} model Accuracy: 0.9753086419753086\n",
            "classification duration: 1.8382654190063477\n",
            "model: all-mpnet-base-v2_sumfeats\n",
            "{embedd} model Accuracy: 0.9670781893004116\n",
            "classification duration: 1.7331674098968506\n",
            "model: pubmedbert-base-embeddings_textjoined\n",
            "{embedd} model Accuracy: 0.9670781893004116\n",
            "classification duration: 1.092881679534912\n",
            "model: pubmedbert-base-embeddings_sumfeats\n",
            "{embedd} model Accuracy: 0.9588477366255144\n",
            "classification duration: 1.2591960430145264\n"
          ]
        }
      ],
      "source": [
        "from tkinter.constants import X\n",
        "import time as Time\n",
        "y=df_embeddings['Label']\n",
        "#split in train - val - test : 60% - 20% - 20%\n",
        "#X_train,X_t,y_train,y_t=train_test_split(embeddings,y,test_size=0.4,random_state=42)\n",
        "#X_val,X_test,y_val,y_test=train_test_split(X_t,y_t,test_size=0.5,random_state=42)\n",
        "X_train,X_val,y_train,y_val=train_test_split(df_embeddings,y,test_size=0.2,random_state=42)\n",
        "\n",
        "for embedd in df_embeddings.columns[3:]:\n",
        "  print(f\"model: {embedd}\")\n",
        "  start=Time.time()\n",
        "  mlp_model = MLPClassifier(hidden_layer_sizes=(128, 64), max_iter=500, random_state=42)\n",
        "  mlp_model.fit(X_train[embedd].to_list(), y_train)\n",
        "  y_pred = mlp_model.predict(X_val[embedd].to_list())\n",
        "  accuracy = accuracy_score(y_val, y_pred)\n",
        "  end=Time.time()\n",
        "  print(\"{embedd} model Accuracy:\", accuracy)\n",
        "  print(f\"classification duration: {end-start}\")"
      ]
    },
    {
      "cell_type": "markdown",
      "metadata": {
        "id": "d9peFXQEHlkm"
      },
      "source": [
        "### 4.1 Training"
      ]
    },
    {
      "cell_type": "code",
      "source": [
        "mlp_model = MLPClassifier(hidden_layer_sizes=(128, 64), max_iter=500, random_state=42)\n",
        "mlp_model.fit(X_train, y_train)"
      ],
      "metadata": {
        "colab": {
          "base_uri": "https://localhost:8080/",
          "height": 80
        },
        "id": "iaMNhPHdAvmo",
        "outputId": "73f60209-e020-474c-85ca-0b85a909b8bb"
      },
      "execution_count": 28,
      "outputs": [
        {
          "output_type": "execute_result",
          "data": {
            "text/plain": [
              "MLPClassifier(hidden_layer_sizes=(128, 64), max_iter=500, random_state=42)"
            ],
            "text/html": [
              "<style>#sk-container-id-1 {\n",
              "  /* Definition of color scheme common for light and dark mode */\n",
              "  --sklearn-color-text: black;\n",
              "  --sklearn-color-line: gray;\n",
              "  /* Definition of color scheme for unfitted estimators */\n",
              "  --sklearn-color-unfitted-level-0: #fff5e6;\n",
              "  --sklearn-color-unfitted-level-1: #f6e4d2;\n",
              "  --sklearn-color-unfitted-level-2: #ffe0b3;\n",
              "  --sklearn-color-unfitted-level-3: chocolate;\n",
              "  /* Definition of color scheme for fitted estimators */\n",
              "  --sklearn-color-fitted-level-0: #f0f8ff;\n",
              "  --sklearn-color-fitted-level-1: #d4ebff;\n",
              "  --sklearn-color-fitted-level-2: #b3dbfd;\n",
              "  --sklearn-color-fitted-level-3: cornflowerblue;\n",
              "\n",
              "  /* Specific color for light theme */\n",
              "  --sklearn-color-text-on-default-background: var(--sg-text-color, var(--theme-code-foreground, var(--jp-content-font-color1, black)));\n",
              "  --sklearn-color-background: var(--sg-background-color, var(--theme-background, var(--jp-layout-color0, white)));\n",
              "  --sklearn-color-border-box: var(--sg-text-color, var(--theme-code-foreground, var(--jp-content-font-color1, black)));\n",
              "  --sklearn-color-icon: #696969;\n",
              "\n",
              "  @media (prefers-color-scheme: dark) {\n",
              "    /* Redefinition of color scheme for dark theme */\n",
              "    --sklearn-color-text-on-default-background: var(--sg-text-color, var(--theme-code-foreground, var(--jp-content-font-color1, white)));\n",
              "    --sklearn-color-background: var(--sg-background-color, var(--theme-background, var(--jp-layout-color0, #111)));\n",
              "    --sklearn-color-border-box: var(--sg-text-color, var(--theme-code-foreground, var(--jp-content-font-color1, white)));\n",
              "    --sklearn-color-icon: #878787;\n",
              "  }\n",
              "}\n",
              "\n",
              "#sk-container-id-1 {\n",
              "  color: var(--sklearn-color-text);\n",
              "}\n",
              "\n",
              "#sk-container-id-1 pre {\n",
              "  padding: 0;\n",
              "}\n",
              "\n",
              "#sk-container-id-1 input.sk-hidden--visually {\n",
              "  border: 0;\n",
              "  clip: rect(1px 1px 1px 1px);\n",
              "  clip: rect(1px, 1px, 1px, 1px);\n",
              "  height: 1px;\n",
              "  margin: -1px;\n",
              "  overflow: hidden;\n",
              "  padding: 0;\n",
              "  position: absolute;\n",
              "  width: 1px;\n",
              "}\n",
              "\n",
              "#sk-container-id-1 div.sk-dashed-wrapped {\n",
              "  border: 1px dashed var(--sklearn-color-line);\n",
              "  margin: 0 0.4em 0.5em 0.4em;\n",
              "  box-sizing: border-box;\n",
              "  padding-bottom: 0.4em;\n",
              "  background-color: var(--sklearn-color-background);\n",
              "}\n",
              "\n",
              "#sk-container-id-1 div.sk-container {\n",
              "  /* jupyter's `normalize.less` sets `[hidden] { display: none; }`\n",
              "     but bootstrap.min.css set `[hidden] { display: none !important; }`\n",
              "     so we also need the `!important` here to be able to override the\n",
              "     default hidden behavior on the sphinx rendered scikit-learn.org.\n",
              "     See: https://github.com/scikit-learn/scikit-learn/issues/21755 */\n",
              "  display: inline-block !important;\n",
              "  position: relative;\n",
              "}\n",
              "\n",
              "#sk-container-id-1 div.sk-text-repr-fallback {\n",
              "  display: none;\n",
              "}\n",
              "\n",
              "div.sk-parallel-item,\n",
              "div.sk-serial,\n",
              "div.sk-item {\n",
              "  /* draw centered vertical line to link estimators */\n",
              "  background-image: linear-gradient(var(--sklearn-color-text-on-default-background), var(--sklearn-color-text-on-default-background));\n",
              "  background-size: 2px 100%;\n",
              "  background-repeat: no-repeat;\n",
              "  background-position: center center;\n",
              "}\n",
              "\n",
              "/* Parallel-specific style estimator block */\n",
              "\n",
              "#sk-container-id-1 div.sk-parallel-item::after {\n",
              "  content: \"\";\n",
              "  width: 100%;\n",
              "  border-bottom: 2px solid var(--sklearn-color-text-on-default-background);\n",
              "  flex-grow: 1;\n",
              "}\n",
              "\n",
              "#sk-container-id-1 div.sk-parallel {\n",
              "  display: flex;\n",
              "  align-items: stretch;\n",
              "  justify-content: center;\n",
              "  background-color: var(--sklearn-color-background);\n",
              "  position: relative;\n",
              "}\n",
              "\n",
              "#sk-container-id-1 div.sk-parallel-item {\n",
              "  display: flex;\n",
              "  flex-direction: column;\n",
              "}\n",
              "\n",
              "#sk-container-id-1 div.sk-parallel-item:first-child::after {\n",
              "  align-self: flex-end;\n",
              "  width: 50%;\n",
              "}\n",
              "\n",
              "#sk-container-id-1 div.sk-parallel-item:last-child::after {\n",
              "  align-self: flex-start;\n",
              "  width: 50%;\n",
              "}\n",
              "\n",
              "#sk-container-id-1 div.sk-parallel-item:only-child::after {\n",
              "  width: 0;\n",
              "}\n",
              "\n",
              "/* Serial-specific style estimator block */\n",
              "\n",
              "#sk-container-id-1 div.sk-serial {\n",
              "  display: flex;\n",
              "  flex-direction: column;\n",
              "  align-items: center;\n",
              "  background-color: var(--sklearn-color-background);\n",
              "  padding-right: 1em;\n",
              "  padding-left: 1em;\n",
              "}\n",
              "\n",
              "\n",
              "/* Toggleable style: style used for estimator/Pipeline/ColumnTransformer box that is\n",
              "clickable and can be expanded/collapsed.\n",
              "- Pipeline and ColumnTransformer use this feature and define the default style\n",
              "- Estimators will overwrite some part of the style using the `sk-estimator` class\n",
              "*/\n",
              "\n",
              "/* Pipeline and ColumnTransformer style (default) */\n",
              "\n",
              "#sk-container-id-1 div.sk-toggleable {\n",
              "  /* Default theme specific background. It is overwritten whether we have a\n",
              "  specific estimator or a Pipeline/ColumnTransformer */\n",
              "  background-color: var(--sklearn-color-background);\n",
              "}\n",
              "\n",
              "/* Toggleable label */\n",
              "#sk-container-id-1 label.sk-toggleable__label {\n",
              "  cursor: pointer;\n",
              "  display: block;\n",
              "  width: 100%;\n",
              "  margin-bottom: 0;\n",
              "  padding: 0.5em;\n",
              "  box-sizing: border-box;\n",
              "  text-align: center;\n",
              "}\n",
              "\n",
              "#sk-container-id-1 label.sk-toggleable__label-arrow:before {\n",
              "  /* Arrow on the left of the label */\n",
              "  content: \"▸\";\n",
              "  float: left;\n",
              "  margin-right: 0.25em;\n",
              "  color: var(--sklearn-color-icon);\n",
              "}\n",
              "\n",
              "#sk-container-id-1 label.sk-toggleable__label-arrow:hover:before {\n",
              "  color: var(--sklearn-color-text);\n",
              "}\n",
              "\n",
              "/* Toggleable content - dropdown */\n",
              "\n",
              "#sk-container-id-1 div.sk-toggleable__content {\n",
              "  max-height: 0;\n",
              "  max-width: 0;\n",
              "  overflow: hidden;\n",
              "  text-align: left;\n",
              "  /* unfitted */\n",
              "  background-color: var(--sklearn-color-unfitted-level-0);\n",
              "}\n",
              "\n",
              "#sk-container-id-1 div.sk-toggleable__content.fitted {\n",
              "  /* fitted */\n",
              "  background-color: var(--sklearn-color-fitted-level-0);\n",
              "}\n",
              "\n",
              "#sk-container-id-1 div.sk-toggleable__content pre {\n",
              "  margin: 0.2em;\n",
              "  border-radius: 0.25em;\n",
              "  color: var(--sklearn-color-text);\n",
              "  /* unfitted */\n",
              "  background-color: var(--sklearn-color-unfitted-level-0);\n",
              "}\n",
              "\n",
              "#sk-container-id-1 div.sk-toggleable__content.fitted pre {\n",
              "  /* unfitted */\n",
              "  background-color: var(--sklearn-color-fitted-level-0);\n",
              "}\n",
              "\n",
              "#sk-container-id-1 input.sk-toggleable__control:checked~div.sk-toggleable__content {\n",
              "  /* Expand drop-down */\n",
              "  max-height: 200px;\n",
              "  max-width: 100%;\n",
              "  overflow: auto;\n",
              "}\n",
              "\n",
              "#sk-container-id-1 input.sk-toggleable__control:checked~label.sk-toggleable__label-arrow:before {\n",
              "  content: \"▾\";\n",
              "}\n",
              "\n",
              "/* Pipeline/ColumnTransformer-specific style */\n",
              "\n",
              "#sk-container-id-1 div.sk-label input.sk-toggleable__control:checked~label.sk-toggleable__label {\n",
              "  color: var(--sklearn-color-text);\n",
              "  background-color: var(--sklearn-color-unfitted-level-2);\n",
              "}\n",
              "\n",
              "#sk-container-id-1 div.sk-label.fitted input.sk-toggleable__control:checked~label.sk-toggleable__label {\n",
              "  background-color: var(--sklearn-color-fitted-level-2);\n",
              "}\n",
              "\n",
              "/* Estimator-specific style */\n",
              "\n",
              "/* Colorize estimator box */\n",
              "#sk-container-id-1 div.sk-estimator input.sk-toggleable__control:checked~label.sk-toggleable__label {\n",
              "  /* unfitted */\n",
              "  background-color: var(--sklearn-color-unfitted-level-2);\n",
              "}\n",
              "\n",
              "#sk-container-id-1 div.sk-estimator.fitted input.sk-toggleable__control:checked~label.sk-toggleable__label {\n",
              "  /* fitted */\n",
              "  background-color: var(--sklearn-color-fitted-level-2);\n",
              "}\n",
              "\n",
              "#sk-container-id-1 div.sk-label label.sk-toggleable__label,\n",
              "#sk-container-id-1 div.sk-label label {\n",
              "  /* The background is the default theme color */\n",
              "  color: var(--sklearn-color-text-on-default-background);\n",
              "}\n",
              "\n",
              "/* On hover, darken the color of the background */\n",
              "#sk-container-id-1 div.sk-label:hover label.sk-toggleable__label {\n",
              "  color: var(--sklearn-color-text);\n",
              "  background-color: var(--sklearn-color-unfitted-level-2);\n",
              "}\n",
              "\n",
              "/* Label box, darken color on hover, fitted */\n",
              "#sk-container-id-1 div.sk-label.fitted:hover label.sk-toggleable__label.fitted {\n",
              "  color: var(--sklearn-color-text);\n",
              "  background-color: var(--sklearn-color-fitted-level-2);\n",
              "}\n",
              "\n",
              "/* Estimator label */\n",
              "\n",
              "#sk-container-id-1 div.sk-label label {\n",
              "  font-family: monospace;\n",
              "  font-weight: bold;\n",
              "  display: inline-block;\n",
              "  line-height: 1.2em;\n",
              "}\n",
              "\n",
              "#sk-container-id-1 div.sk-label-container {\n",
              "  text-align: center;\n",
              "}\n",
              "\n",
              "/* Estimator-specific */\n",
              "#sk-container-id-1 div.sk-estimator {\n",
              "  font-family: monospace;\n",
              "  border: 1px dotted var(--sklearn-color-border-box);\n",
              "  border-radius: 0.25em;\n",
              "  box-sizing: border-box;\n",
              "  margin-bottom: 0.5em;\n",
              "  /* unfitted */\n",
              "  background-color: var(--sklearn-color-unfitted-level-0);\n",
              "}\n",
              "\n",
              "#sk-container-id-1 div.sk-estimator.fitted {\n",
              "  /* fitted */\n",
              "  background-color: var(--sklearn-color-fitted-level-0);\n",
              "}\n",
              "\n",
              "/* on hover */\n",
              "#sk-container-id-1 div.sk-estimator:hover {\n",
              "  /* unfitted */\n",
              "  background-color: var(--sklearn-color-unfitted-level-2);\n",
              "}\n",
              "\n",
              "#sk-container-id-1 div.sk-estimator.fitted:hover {\n",
              "  /* fitted */\n",
              "  background-color: var(--sklearn-color-fitted-level-2);\n",
              "}\n",
              "\n",
              "/* Specification for estimator info (e.g. \"i\" and \"?\") */\n",
              "\n",
              "/* Common style for \"i\" and \"?\" */\n",
              "\n",
              ".sk-estimator-doc-link,\n",
              "a:link.sk-estimator-doc-link,\n",
              "a:visited.sk-estimator-doc-link {\n",
              "  float: right;\n",
              "  font-size: smaller;\n",
              "  line-height: 1em;\n",
              "  font-family: monospace;\n",
              "  background-color: var(--sklearn-color-background);\n",
              "  border-radius: 1em;\n",
              "  height: 1em;\n",
              "  width: 1em;\n",
              "  text-decoration: none !important;\n",
              "  margin-left: 1ex;\n",
              "  /* unfitted */\n",
              "  border: var(--sklearn-color-unfitted-level-1) 1pt solid;\n",
              "  color: var(--sklearn-color-unfitted-level-1);\n",
              "}\n",
              "\n",
              ".sk-estimator-doc-link.fitted,\n",
              "a:link.sk-estimator-doc-link.fitted,\n",
              "a:visited.sk-estimator-doc-link.fitted {\n",
              "  /* fitted */\n",
              "  border: var(--sklearn-color-fitted-level-1) 1pt solid;\n",
              "  color: var(--sklearn-color-fitted-level-1);\n",
              "}\n",
              "\n",
              "/* On hover */\n",
              "div.sk-estimator:hover .sk-estimator-doc-link:hover,\n",
              ".sk-estimator-doc-link:hover,\n",
              "div.sk-label-container:hover .sk-estimator-doc-link:hover,\n",
              ".sk-estimator-doc-link:hover {\n",
              "  /* unfitted */\n",
              "  background-color: var(--sklearn-color-unfitted-level-3);\n",
              "  color: var(--sklearn-color-background);\n",
              "  text-decoration: none;\n",
              "}\n",
              "\n",
              "div.sk-estimator.fitted:hover .sk-estimator-doc-link.fitted:hover,\n",
              ".sk-estimator-doc-link.fitted:hover,\n",
              "div.sk-label-container:hover .sk-estimator-doc-link.fitted:hover,\n",
              ".sk-estimator-doc-link.fitted:hover {\n",
              "  /* fitted */\n",
              "  background-color: var(--sklearn-color-fitted-level-3);\n",
              "  color: var(--sklearn-color-background);\n",
              "  text-decoration: none;\n",
              "}\n",
              "\n",
              "/* Span, style for the box shown on hovering the info icon */\n",
              ".sk-estimator-doc-link span {\n",
              "  display: none;\n",
              "  z-index: 9999;\n",
              "  position: relative;\n",
              "  font-weight: normal;\n",
              "  right: .2ex;\n",
              "  padding: .5ex;\n",
              "  margin: .5ex;\n",
              "  width: min-content;\n",
              "  min-width: 20ex;\n",
              "  max-width: 50ex;\n",
              "  color: var(--sklearn-color-text);\n",
              "  box-shadow: 2pt 2pt 4pt #999;\n",
              "  /* unfitted */\n",
              "  background: var(--sklearn-color-unfitted-level-0);\n",
              "  border: .5pt solid var(--sklearn-color-unfitted-level-3);\n",
              "}\n",
              "\n",
              ".sk-estimator-doc-link.fitted span {\n",
              "  /* fitted */\n",
              "  background: var(--sklearn-color-fitted-level-0);\n",
              "  border: var(--sklearn-color-fitted-level-3);\n",
              "}\n",
              "\n",
              ".sk-estimator-doc-link:hover span {\n",
              "  display: block;\n",
              "}\n",
              "\n",
              "/* \"?\"-specific style due to the `<a>` HTML tag */\n",
              "\n",
              "#sk-container-id-1 a.estimator_doc_link {\n",
              "  float: right;\n",
              "  font-size: 1rem;\n",
              "  line-height: 1em;\n",
              "  font-family: monospace;\n",
              "  background-color: var(--sklearn-color-background);\n",
              "  border-radius: 1rem;\n",
              "  height: 1rem;\n",
              "  width: 1rem;\n",
              "  text-decoration: none;\n",
              "  /* unfitted */\n",
              "  color: var(--sklearn-color-unfitted-level-1);\n",
              "  border: var(--sklearn-color-unfitted-level-1) 1pt solid;\n",
              "}\n",
              "\n",
              "#sk-container-id-1 a.estimator_doc_link.fitted {\n",
              "  /* fitted */\n",
              "  border: var(--sklearn-color-fitted-level-1) 1pt solid;\n",
              "  color: var(--sklearn-color-fitted-level-1);\n",
              "}\n",
              "\n",
              "/* On hover */\n",
              "#sk-container-id-1 a.estimator_doc_link:hover {\n",
              "  /* unfitted */\n",
              "  background-color: var(--sklearn-color-unfitted-level-3);\n",
              "  color: var(--sklearn-color-background);\n",
              "  text-decoration: none;\n",
              "}\n",
              "\n",
              "#sk-container-id-1 a.estimator_doc_link.fitted:hover {\n",
              "  /* fitted */\n",
              "  background-color: var(--sklearn-color-fitted-level-3);\n",
              "}\n",
              "</style><div id=\"sk-container-id-1\" class=\"sk-top-container\"><div class=\"sk-text-repr-fallback\"><pre>MLPClassifier(hidden_layer_sizes=(128, 64), max_iter=500, random_state=42)</pre><b>In a Jupyter environment, please rerun this cell to show the HTML representation or trust the notebook. <br />On GitHub, the HTML representation is unable to render, please try loading this page with nbviewer.org.</b></div><div class=\"sk-container\" hidden><div class=\"sk-item\"><div class=\"sk-estimator fitted sk-toggleable\"><input class=\"sk-toggleable__control sk-hidden--visually\" id=\"sk-estimator-id-1\" type=\"checkbox\" checked><label for=\"sk-estimator-id-1\" class=\"sk-toggleable__label fitted sk-toggleable__label-arrow fitted\">&nbsp;&nbsp;MLPClassifier<a class=\"sk-estimator-doc-link fitted\" rel=\"noreferrer\" target=\"_blank\" href=\"https://scikit-learn.org/1.5/modules/generated/sklearn.neural_network.MLPClassifier.html\">?<span>Documentation for MLPClassifier</span></a><span class=\"sk-estimator-doc-link fitted\">i<span>Fitted</span></span></label><div class=\"sk-toggleable__content fitted\"><pre>MLPClassifier(hidden_layer_sizes=(128, 64), max_iter=500, random_state=42)</pre></div> </div></div></div></div>"
            ]
          },
          "metadata": {},
          "execution_count": 28
        }
      ]
    },
    {
      "cell_type": "markdown",
      "metadata": {
        "id": "IZvFosnhHlkm"
      },
      "source": [
        "### 4.2 Testing"
      ]
    },
    {
      "cell_type": "code",
      "source": [
        "y_pred = mlp_model.predict(X_val)\n",
        "accuracy = accuracy_score(y_val, y_pred)\n",
        "print(\"Accuracy:\", accuracy)"
      ],
      "metadata": {
        "colab": {
          "base_uri": "https://localhost:8080/"
        },
        "id": "OGFYHK6ZBSZ5",
        "outputId": "b8118c1b-74eb-43d2-e604-75440a375c24"
      },
      "execution_count": 29,
      "outputs": [
        {
          "output_type": "stream",
          "name": "stdout",
          "text": [
            "Accuracy: 0.9588477366255144\n"
          ]
        }
      ]
    },
    {
      "cell_type": "markdown",
      "source": [
        "### 4.3 Saving model"
      ],
      "metadata": {
        "id": "5rutXqys7TT8"
      }
    },
    {
      "cell_type": "code",
      "execution_count": null,
      "metadata": {
        "id": "TsQSm_3YHlkm"
      },
      "outputs": [],
      "source": [
        "embedding_model = \"sentence-transformers/all-MiniLM-L6-v2\"\n",
        "topic_model.save(\"./model_dir/hdbscan\", serialization=\"safetensors\", save_ctfidf=True, save_embedding_model=embedding_model)"
      ]
    },
    {
      "cell_type": "markdown",
      "metadata": {
        "id": "8kq_f5FyHlkm"
      },
      "source": [
        "## 4. Accuracy & other parameters"
      ]
    },
    {
      "cell_type": "code",
      "source": [
        "X_train_tot=np.concatenate((X_train,X_val))\n",
        "y_train_tot=np.concatenate((y_train,y_val))\n",
        "mlp_modelfin = MLPClassifier(hidden_layer_sizes=(128, 64), max_iter=500, random_state=42)\n",
        "mlp_modelfin.fit(X_train_tot, y_train_tot)\n",
        "\n",
        "y_pred = mlp_model.predict(X_test)\n",
        "accuracy = accuracy_score(y_test, y_pred)\n",
        "print(\"Accuracy:\", accuracy)"
      ],
      "metadata": {
        "colab": {
          "base_uri": "https://localhost:8080/"
        },
        "outputId": "6ffba8e0-6e9f-4e0b-d9a9-150ac154a502",
        "id": "pbYQDq90Cp9-"
      },
      "execution_count": 30,
      "outputs": [
        {
          "output_type": "stream",
          "name": "stdout",
          "text": [
            "Accuracy: 0.9423868312757202\n"
          ]
        }
      ]
    },
    {
      "cell_type": "markdown",
      "metadata": {
        "id": "GaaZDEplHlkm"
      },
      "source": [
        "### Creating plots"
      ]
    },
    {
      "cell_type": "code",
      "execution_count": null,
      "metadata": {
        "id": "MLMuQegyHlkm"
      },
      "outputs": [],
      "source": [
        "%matplotlib inline\n"
      ]
    },
    {
      "cell_type": "code",
      "execution_count": null,
      "metadata": {
        "id": "9MKL3_u_Hlkn"
      },
      "outputs": [],
      "source": [
        "\n",
        "\n"
      ]
    },
    {
      "cell_type": "code",
      "execution_count": null,
      "metadata": {
        "id": "ug9VE8HFHlkn"
      },
      "outputs": [],
      "source": []
    },
    {
      "cell_type": "markdown",
      "metadata": {
        "id": "8Q3M_YYyHlkn"
      },
      "source": []
    },
    {
      "cell_type": "code",
      "execution_count": null,
      "metadata": {
        "id": "nphXENluHlkn"
      },
      "outputs": [],
      "source": []
    },
    {
      "cell_type": "markdown",
      "metadata": {
        "id": "v9k1RynXHlkn"
      },
      "source": [
        "### Model visualization: topics and documents"
      ]
    },
    {
      "cell_type": "code",
      "execution_count": null,
      "metadata": {
        "id": "i7DO2Np0Hlkn"
      },
      "outputs": [],
      "source": [
        "topic_model.visualize_topics()"
      ]
    },
    {
      "cell_type": "code",
      "execution_count": null,
      "metadata": {
        "id": "3XPKVQ1JHlkn"
      },
      "outputs": [],
      "source": []
    },
    {
      "cell_type": "code",
      "execution_count": null,
      "metadata": {
        "id": "nf0Lhv2jHlkn"
      },
      "outputs": [],
      "source": []
    },
    {
      "cell_type": "code",
      "execution_count": null,
      "metadata": {
        "id": "TInKTgjGHlkn"
      },
      "outputs": [],
      "source": []
    },
    {
      "cell_type": "code",
      "execution_count": null,
      "metadata": {
        "id": "SCnTQYrmHlkn"
      },
      "outputs": [],
      "source": []
    },
    {
      "cell_type": "code",
      "execution_count": null,
      "metadata": {
        "id": "UcommjtHHlkn"
      },
      "outputs": [],
      "source": [
        "topic_model.visualize_hierarchy()"
      ]
    },
    {
      "cell_type": "code",
      "execution_count": null,
      "metadata": {
        "id": "Jt9IMmC3Hlkn"
      },
      "outputs": [],
      "source": [
        "# Documents\n",
        "from umap import UMAP\n",
        "reduced_embeddings = UMAP(n_neighbors=10, n_components=2, min_dist=0.0, metric='cosine').fit_transform(embeddings)\n",
        "# Visualize the documents in 2-dimensional space and show the titles on hover instead of the abstracts\n",
        "# NOTE: You can hide the hover with `hide_document_hover=True` which is especially helpful if you have a large dataset\n",
        "labels=md_terms_ss_df['medical_term'].to_list()\n",
        "topic_model.visualize_documents(labels, reduced_embeddings=reduced_embeddings)"
      ]
    }
  ],
  "metadata": {
    "kernelspec": {
      "display_name": "Python 3",
      "name": "python3"
    },
    "language_info": {
      "codemirror_mode": {
        "name": "ipython",
        "version": 3
      },
      "file_extension": ".py",
      "mimetype": "text/x-python",
      "name": "python",
      "nbconvert_exporter": "python",
      "pygments_lexer": "ipython3",
      "version": "3.11.7"
    },
    "colab": {
      "provenance": [],
      "gpuType": "T4"
    },
    "widgets": {
      "application/vnd.jupyter.widget-state+json": {
        "eb5ab33a533b4d8480365f1de68aa79a": {
          "model_module": "@jupyter-widgets/controls",
          "model_name": "HBoxModel",
          "model_module_version": "1.5.0",
          "state": {
            "_dom_classes": [],
            "_model_module": "@jupyter-widgets/controls",
            "_model_module_version": "1.5.0",
            "_model_name": "HBoxModel",
            "_view_count": null,
            "_view_module": "@jupyter-widgets/controls",
            "_view_module_version": "1.5.0",
            "_view_name": "HBoxView",
            "box_style": "",
            "children": [
              "IPY_MODEL_99293c51536b4aae8770607ff7659c39",
              "IPY_MODEL_ba6c02546117440d9d45ca6b3da1e2e6",
              "IPY_MODEL_799f026bd71b47a8b3e9808d65aac921"
            ],
            "layout": "IPY_MODEL_b10ca08a5e3d41f6b81e8dae9bfd3dc3"
          }
        },
        "99293c51536b4aae8770607ff7659c39": {
          "model_module": "@jupyter-widgets/controls",
          "model_name": "HTMLModel",
          "model_module_version": "1.5.0",
          "state": {
            "_dom_classes": [],
            "_model_module": "@jupyter-widgets/controls",
            "_model_module_version": "1.5.0",
            "_model_name": "HTMLModel",
            "_view_count": null,
            "_view_module": "@jupyter-widgets/controls",
            "_view_module_version": "1.5.0",
            "_view_name": "HTMLView",
            "description": "",
            "description_tooltip": null,
            "layout": "IPY_MODEL_58932a2e5c074ebb97e277ecb7f82b4a",
            "placeholder": "​",
            "style": "IPY_MODEL_13cdec9d21d1415eabad02e88b6cdd88",
            "value": "README.md: 100%"
          }
        },
        "ba6c02546117440d9d45ca6b3da1e2e6": {
          "model_module": "@jupyter-widgets/controls",
          "model_name": "FloatProgressModel",
          "model_module_version": "1.5.0",
          "state": {
            "_dom_classes": [],
            "_model_module": "@jupyter-widgets/controls",
            "_model_module_version": "1.5.0",
            "_model_name": "FloatProgressModel",
            "_view_count": null,
            "_view_module": "@jupyter-widgets/controls",
            "_view_module_version": "1.5.0",
            "_view_name": "ProgressView",
            "bar_style": "success",
            "description": "",
            "description_tooltip": null,
            "layout": "IPY_MODEL_dac84823ec8240fe8ea9d4dc5c633c1c",
            "max": 382,
            "min": 0,
            "orientation": "horizontal",
            "style": "IPY_MODEL_aa7aa7e72cd54ca7b477f8c339a24447",
            "value": 382
          }
        },
        "799f026bd71b47a8b3e9808d65aac921": {
          "model_module": "@jupyter-widgets/controls",
          "model_name": "HTMLModel",
          "model_module_version": "1.5.0",
          "state": {
            "_dom_classes": [],
            "_model_module": "@jupyter-widgets/controls",
            "_model_module_version": "1.5.0",
            "_model_name": "HTMLModel",
            "_view_count": null,
            "_view_module": "@jupyter-widgets/controls",
            "_view_module_version": "1.5.0",
            "_view_name": "HTMLView",
            "description": "",
            "description_tooltip": null,
            "layout": "IPY_MODEL_eff9e3e57d81411e8da1880340737113",
            "placeholder": "​",
            "style": "IPY_MODEL_51276bfbefc44d52a22c86242c5e2c2f",
            "value": " 382/382 [00:00&lt;00:00, 1.76kB/s]"
          }
        },
        "b10ca08a5e3d41f6b81e8dae9bfd3dc3": {
          "model_module": "@jupyter-widgets/base",
          "model_name": "LayoutModel",
          "model_module_version": "1.2.0",
          "state": {
            "_model_module": "@jupyter-widgets/base",
            "_model_module_version": "1.2.0",
            "_model_name": "LayoutModel",
            "_view_count": null,
            "_view_module": "@jupyter-widgets/base",
            "_view_module_version": "1.2.0",
            "_view_name": "LayoutView",
            "align_content": null,
            "align_items": null,
            "align_self": null,
            "border": null,
            "bottom": null,
            "display": null,
            "flex": null,
            "flex_flow": null,
            "grid_area": null,
            "grid_auto_columns": null,
            "grid_auto_flow": null,
            "grid_auto_rows": null,
            "grid_column": null,
            "grid_gap": null,
            "grid_row": null,
            "grid_template_areas": null,
            "grid_template_columns": null,
            "grid_template_rows": null,
            "height": null,
            "justify_content": null,
            "justify_items": null,
            "left": null,
            "margin": null,
            "max_height": null,
            "max_width": null,
            "min_height": null,
            "min_width": null,
            "object_fit": null,
            "object_position": null,
            "order": null,
            "overflow": null,
            "overflow_x": null,
            "overflow_y": null,
            "padding": null,
            "right": null,
            "top": null,
            "visibility": null,
            "width": null
          }
        },
        "58932a2e5c074ebb97e277ecb7f82b4a": {
          "model_module": "@jupyter-widgets/base",
          "model_name": "LayoutModel",
          "model_module_version": "1.2.0",
          "state": {
            "_model_module": "@jupyter-widgets/base",
            "_model_module_version": "1.2.0",
            "_model_name": "LayoutModel",
            "_view_count": null,
            "_view_module": "@jupyter-widgets/base",
            "_view_module_version": "1.2.0",
            "_view_name": "LayoutView",
            "align_content": null,
            "align_items": null,
            "align_self": null,
            "border": null,
            "bottom": null,
            "display": null,
            "flex": null,
            "flex_flow": null,
            "grid_area": null,
            "grid_auto_columns": null,
            "grid_auto_flow": null,
            "grid_auto_rows": null,
            "grid_column": null,
            "grid_gap": null,
            "grid_row": null,
            "grid_template_areas": null,
            "grid_template_columns": null,
            "grid_template_rows": null,
            "height": null,
            "justify_content": null,
            "justify_items": null,
            "left": null,
            "margin": null,
            "max_height": null,
            "max_width": null,
            "min_height": null,
            "min_width": null,
            "object_fit": null,
            "object_position": null,
            "order": null,
            "overflow": null,
            "overflow_x": null,
            "overflow_y": null,
            "padding": null,
            "right": null,
            "top": null,
            "visibility": null,
            "width": null
          }
        },
        "13cdec9d21d1415eabad02e88b6cdd88": {
          "model_module": "@jupyter-widgets/controls",
          "model_name": "DescriptionStyleModel",
          "model_module_version": "1.5.0",
          "state": {
            "_model_module": "@jupyter-widgets/controls",
            "_model_module_version": "1.5.0",
            "_model_name": "DescriptionStyleModel",
            "_view_count": null,
            "_view_module": "@jupyter-widgets/base",
            "_view_module_version": "1.2.0",
            "_view_name": "StyleView",
            "description_width": ""
          }
        },
        "dac84823ec8240fe8ea9d4dc5c633c1c": {
          "model_module": "@jupyter-widgets/base",
          "model_name": "LayoutModel",
          "model_module_version": "1.2.0",
          "state": {
            "_model_module": "@jupyter-widgets/base",
            "_model_module_version": "1.2.0",
            "_model_name": "LayoutModel",
            "_view_count": null,
            "_view_module": "@jupyter-widgets/base",
            "_view_module_version": "1.2.0",
            "_view_name": "LayoutView",
            "align_content": null,
            "align_items": null,
            "align_self": null,
            "border": null,
            "bottom": null,
            "display": null,
            "flex": null,
            "flex_flow": null,
            "grid_area": null,
            "grid_auto_columns": null,
            "grid_auto_flow": null,
            "grid_auto_rows": null,
            "grid_column": null,
            "grid_gap": null,
            "grid_row": null,
            "grid_template_areas": null,
            "grid_template_columns": null,
            "grid_template_rows": null,
            "height": null,
            "justify_content": null,
            "justify_items": null,
            "left": null,
            "margin": null,
            "max_height": null,
            "max_width": null,
            "min_height": null,
            "min_width": null,
            "object_fit": null,
            "object_position": null,
            "order": null,
            "overflow": null,
            "overflow_x": null,
            "overflow_y": null,
            "padding": null,
            "right": null,
            "top": null,
            "visibility": null,
            "width": null
          }
        },
        "aa7aa7e72cd54ca7b477f8c339a24447": {
          "model_module": "@jupyter-widgets/controls",
          "model_name": "ProgressStyleModel",
          "model_module_version": "1.5.0",
          "state": {
            "_model_module": "@jupyter-widgets/controls",
            "_model_module_version": "1.5.0",
            "_model_name": "ProgressStyleModel",
            "_view_count": null,
            "_view_module": "@jupyter-widgets/base",
            "_view_module_version": "1.2.0",
            "_view_name": "StyleView",
            "bar_color": null,
            "description_width": ""
          }
        },
        "eff9e3e57d81411e8da1880340737113": {
          "model_module": "@jupyter-widgets/base",
          "model_name": "LayoutModel",
          "model_module_version": "1.2.0",
          "state": {
            "_model_module": "@jupyter-widgets/base",
            "_model_module_version": "1.2.0",
            "_model_name": "LayoutModel",
            "_view_count": null,
            "_view_module": "@jupyter-widgets/base",
            "_view_module_version": "1.2.0",
            "_view_name": "LayoutView",
            "align_content": null,
            "align_items": null,
            "align_self": null,
            "border": null,
            "bottom": null,
            "display": null,
            "flex": null,
            "flex_flow": null,
            "grid_area": null,
            "grid_auto_columns": null,
            "grid_auto_flow": null,
            "grid_auto_rows": null,
            "grid_column": null,
            "grid_gap": null,
            "grid_row": null,
            "grid_template_areas": null,
            "grid_template_columns": null,
            "grid_template_rows": null,
            "height": null,
            "justify_content": null,
            "justify_items": null,
            "left": null,
            "margin": null,
            "max_height": null,
            "max_width": null,
            "min_height": null,
            "min_width": null,
            "object_fit": null,
            "object_position": null,
            "order": null,
            "overflow": null,
            "overflow_x": null,
            "overflow_y": null,
            "padding": null,
            "right": null,
            "top": null,
            "visibility": null,
            "width": null
          }
        },
        "51276bfbefc44d52a22c86242c5e2c2f": {
          "model_module": "@jupyter-widgets/controls",
          "model_name": "DescriptionStyleModel",
          "model_module_version": "1.5.0",
          "state": {
            "_model_module": "@jupyter-widgets/controls",
            "_model_module_version": "1.5.0",
            "_model_name": "DescriptionStyleModel",
            "_view_count": null,
            "_view_module": "@jupyter-widgets/base",
            "_view_module_version": "1.2.0",
            "_view_name": "StyleView",
            "description_width": ""
          }
        },
        "631283a04c674ef1b996d0b23374ad20": {
          "model_module": "@jupyter-widgets/controls",
          "model_name": "HBoxModel",
          "model_module_version": "1.5.0",
          "state": {
            "_dom_classes": [],
            "_model_module": "@jupyter-widgets/controls",
            "_model_module_version": "1.5.0",
            "_model_name": "HBoxModel",
            "_view_count": null,
            "_view_module": "@jupyter-widgets/controls",
            "_view_module_version": "1.5.0",
            "_view_name": "HBoxView",
            "box_style": "",
            "children": [
              "IPY_MODEL_78125fce708e4f3fa081ce735eca90a7",
              "IPY_MODEL_589f194040444c5680698884f3e747cd",
              "IPY_MODEL_670317b6396d4281a893ddd443e67c05"
            ],
            "layout": "IPY_MODEL_e7909abedc174842894113c28bf22166"
          }
        },
        "78125fce708e4f3fa081ce735eca90a7": {
          "model_module": "@jupyter-widgets/controls",
          "model_name": "HTMLModel",
          "model_module_version": "1.5.0",
          "state": {
            "_dom_classes": [],
            "_model_module": "@jupyter-widgets/controls",
            "_model_module_version": "1.5.0",
            "_model_name": "HTMLModel",
            "_view_count": null,
            "_view_module": "@jupyter-widgets/controls",
            "_view_module_version": "1.5.0",
            "_view_name": "HTMLView",
            "description": "",
            "description_tooltip": null,
            "layout": "IPY_MODEL_b23af09058c74f469f7d5ec0771b06ca",
            "placeholder": "​",
            "style": "IPY_MODEL_96a0d1e384064acab934978d7026259a",
            "value": "(…)-00000-of-00001-6cb8c751614cff33.parquet: 100%"
          }
        },
        "589f194040444c5680698884f3e747cd": {
          "model_module": "@jupyter-widgets/controls",
          "model_name": "FloatProgressModel",
          "model_module_version": "1.5.0",
          "state": {
            "_dom_classes": [],
            "_model_module": "@jupyter-widgets/controls",
            "_model_module_version": "1.5.0",
            "_model_name": "FloatProgressModel",
            "_view_count": null,
            "_view_module": "@jupyter-widgets/controls",
            "_view_module_version": "1.5.0",
            "_view_name": "ProgressView",
            "bar_style": "success",
            "description": "",
            "description_tooltip": null,
            "layout": "IPY_MODEL_548c10bfc7df4f68aa5ec9f363771e52",
            "max": 1359885,
            "min": 0,
            "orientation": "horizontal",
            "style": "IPY_MODEL_351f623f8a9a4ffabb2c183cc0b63cf6",
            "value": 1359885
          }
        },
        "670317b6396d4281a893ddd443e67c05": {
          "model_module": "@jupyter-widgets/controls",
          "model_name": "HTMLModel",
          "model_module_version": "1.5.0",
          "state": {
            "_dom_classes": [],
            "_model_module": "@jupyter-widgets/controls",
            "_model_module_version": "1.5.0",
            "_model_name": "HTMLModel",
            "_view_count": null,
            "_view_module": "@jupyter-widgets/controls",
            "_view_module_version": "1.5.0",
            "_view_name": "HTMLView",
            "description": "",
            "description_tooltip": null,
            "layout": "IPY_MODEL_8b382e6cd79c47a29c737e5c6e4c563d",
            "placeholder": "​",
            "style": "IPY_MODEL_0d76c876a5a2482ebba43f6e16988c2c",
            "value": " 1.36M/1.36M [00:00&lt;00:00, 3.15MB/s]"
          }
        },
        "e7909abedc174842894113c28bf22166": {
          "model_module": "@jupyter-widgets/base",
          "model_name": "LayoutModel",
          "model_module_version": "1.2.0",
          "state": {
            "_model_module": "@jupyter-widgets/base",
            "_model_module_version": "1.2.0",
            "_model_name": "LayoutModel",
            "_view_count": null,
            "_view_module": "@jupyter-widgets/base",
            "_view_module_version": "1.2.0",
            "_view_name": "LayoutView",
            "align_content": null,
            "align_items": null,
            "align_self": null,
            "border": null,
            "bottom": null,
            "display": null,
            "flex": null,
            "flex_flow": null,
            "grid_area": null,
            "grid_auto_columns": null,
            "grid_auto_flow": null,
            "grid_auto_rows": null,
            "grid_column": null,
            "grid_gap": null,
            "grid_row": null,
            "grid_template_areas": null,
            "grid_template_columns": null,
            "grid_template_rows": null,
            "height": null,
            "justify_content": null,
            "justify_items": null,
            "left": null,
            "margin": null,
            "max_height": null,
            "max_width": null,
            "min_height": null,
            "min_width": null,
            "object_fit": null,
            "object_position": null,
            "order": null,
            "overflow": null,
            "overflow_x": null,
            "overflow_y": null,
            "padding": null,
            "right": null,
            "top": null,
            "visibility": null,
            "width": null
          }
        },
        "b23af09058c74f469f7d5ec0771b06ca": {
          "model_module": "@jupyter-widgets/base",
          "model_name": "LayoutModel",
          "model_module_version": "1.2.0",
          "state": {
            "_model_module": "@jupyter-widgets/base",
            "_model_module_version": "1.2.0",
            "_model_name": "LayoutModel",
            "_view_count": null,
            "_view_module": "@jupyter-widgets/base",
            "_view_module_version": "1.2.0",
            "_view_name": "LayoutView",
            "align_content": null,
            "align_items": null,
            "align_self": null,
            "border": null,
            "bottom": null,
            "display": null,
            "flex": null,
            "flex_flow": null,
            "grid_area": null,
            "grid_auto_columns": null,
            "grid_auto_flow": null,
            "grid_auto_rows": null,
            "grid_column": null,
            "grid_gap": null,
            "grid_row": null,
            "grid_template_areas": null,
            "grid_template_columns": null,
            "grid_template_rows": null,
            "height": null,
            "justify_content": null,
            "justify_items": null,
            "left": null,
            "margin": null,
            "max_height": null,
            "max_width": null,
            "min_height": null,
            "min_width": null,
            "object_fit": null,
            "object_position": null,
            "order": null,
            "overflow": null,
            "overflow_x": null,
            "overflow_y": null,
            "padding": null,
            "right": null,
            "top": null,
            "visibility": null,
            "width": null
          }
        },
        "96a0d1e384064acab934978d7026259a": {
          "model_module": "@jupyter-widgets/controls",
          "model_name": "DescriptionStyleModel",
          "model_module_version": "1.5.0",
          "state": {
            "_model_module": "@jupyter-widgets/controls",
            "_model_module_version": "1.5.0",
            "_model_name": "DescriptionStyleModel",
            "_view_count": null,
            "_view_module": "@jupyter-widgets/base",
            "_view_module_version": "1.2.0",
            "_view_name": "StyleView",
            "description_width": ""
          }
        },
        "548c10bfc7df4f68aa5ec9f363771e52": {
          "model_module": "@jupyter-widgets/base",
          "model_name": "LayoutModel",
          "model_module_version": "1.2.0",
          "state": {
            "_model_module": "@jupyter-widgets/base",
            "_model_module_version": "1.2.0",
            "_model_name": "LayoutModel",
            "_view_count": null,
            "_view_module": "@jupyter-widgets/base",
            "_view_module_version": "1.2.0",
            "_view_name": "LayoutView",
            "align_content": null,
            "align_items": null,
            "align_self": null,
            "border": null,
            "bottom": null,
            "display": null,
            "flex": null,
            "flex_flow": null,
            "grid_area": null,
            "grid_auto_columns": null,
            "grid_auto_flow": null,
            "grid_auto_rows": null,
            "grid_column": null,
            "grid_gap": null,
            "grid_row": null,
            "grid_template_areas": null,
            "grid_template_columns": null,
            "grid_template_rows": null,
            "height": null,
            "justify_content": null,
            "justify_items": null,
            "left": null,
            "margin": null,
            "max_height": null,
            "max_width": null,
            "min_height": null,
            "min_width": null,
            "object_fit": null,
            "object_position": null,
            "order": null,
            "overflow": null,
            "overflow_x": null,
            "overflow_y": null,
            "padding": null,
            "right": null,
            "top": null,
            "visibility": null,
            "width": null
          }
        },
        "351f623f8a9a4ffabb2c183cc0b63cf6": {
          "model_module": "@jupyter-widgets/controls",
          "model_name": "ProgressStyleModel",
          "model_module_version": "1.5.0",
          "state": {
            "_model_module": "@jupyter-widgets/controls",
            "_model_module_version": "1.5.0",
            "_model_name": "ProgressStyleModel",
            "_view_count": null,
            "_view_module": "@jupyter-widgets/base",
            "_view_module_version": "1.2.0",
            "_view_name": "StyleView",
            "bar_color": null,
            "description_width": ""
          }
        },
        "8b382e6cd79c47a29c737e5c6e4c563d": {
          "model_module": "@jupyter-widgets/base",
          "model_name": "LayoutModel",
          "model_module_version": "1.2.0",
          "state": {
            "_model_module": "@jupyter-widgets/base",
            "_model_module_version": "1.2.0",
            "_model_name": "LayoutModel",
            "_view_count": null,
            "_view_module": "@jupyter-widgets/base",
            "_view_module_version": "1.2.0",
            "_view_name": "LayoutView",
            "align_content": null,
            "align_items": null,
            "align_self": null,
            "border": null,
            "bottom": null,
            "display": null,
            "flex": null,
            "flex_flow": null,
            "grid_area": null,
            "grid_auto_columns": null,
            "grid_auto_flow": null,
            "grid_auto_rows": null,
            "grid_column": null,
            "grid_gap": null,
            "grid_row": null,
            "grid_template_areas": null,
            "grid_template_columns": null,
            "grid_template_rows": null,
            "height": null,
            "justify_content": null,
            "justify_items": null,
            "left": null,
            "margin": null,
            "max_height": null,
            "max_width": null,
            "min_height": null,
            "min_width": null,
            "object_fit": null,
            "object_position": null,
            "order": null,
            "overflow": null,
            "overflow_x": null,
            "overflow_y": null,
            "padding": null,
            "right": null,
            "top": null,
            "visibility": null,
            "width": null
          }
        },
        "0d76c876a5a2482ebba43f6e16988c2c": {
          "model_module": "@jupyter-widgets/controls",
          "model_name": "DescriptionStyleModel",
          "model_module_version": "1.5.0",
          "state": {
            "_model_module": "@jupyter-widgets/controls",
            "_model_module_version": "1.5.0",
            "_model_name": "DescriptionStyleModel",
            "_view_count": null,
            "_view_module": "@jupyter-widgets/base",
            "_view_module_version": "1.2.0",
            "_view_name": "StyleView",
            "description_width": ""
          }
        },
        "c3f3755f25144e17b7fd38fe7bbff314": {
          "model_module": "@jupyter-widgets/controls",
          "model_name": "HBoxModel",
          "model_module_version": "1.5.0",
          "state": {
            "_dom_classes": [],
            "_model_module": "@jupyter-widgets/controls",
            "_model_module_version": "1.5.0",
            "_model_name": "HBoxModel",
            "_view_count": null,
            "_view_module": "@jupyter-widgets/controls",
            "_view_module_version": "1.5.0",
            "_view_name": "HBoxView",
            "box_style": "",
            "children": [
              "IPY_MODEL_2d698ec394c94427b219c23acaa57937",
              "IPY_MODEL_3443f27c3ecd4341a2158937f94044f8",
              "IPY_MODEL_8b8300113de1494da33d3735bf5ef78a"
            ],
            "layout": "IPY_MODEL_079ab66b83a1495c956aaa867cd568fd"
          }
        },
        "2d698ec394c94427b219c23acaa57937": {
          "model_module": "@jupyter-widgets/controls",
          "model_name": "HTMLModel",
          "model_module_version": "1.5.0",
          "state": {
            "_dom_classes": [],
            "_model_module": "@jupyter-widgets/controls",
            "_model_module_version": "1.5.0",
            "_model_name": "HTMLModel",
            "_view_count": null,
            "_view_module": "@jupyter-widgets/controls",
            "_view_module_version": "1.5.0",
            "_view_name": "HTMLView",
            "description": "",
            "description_tooltip": null,
            "layout": "IPY_MODEL_e3f18c7bc0284272b308156195c03439",
            "placeholder": "​",
            "style": "IPY_MODEL_ec3380495bba41f7a2f3a4a0b63cb0e0",
            "value": "Generating train split: 100%"
          }
        },
        "3443f27c3ecd4341a2158937f94044f8": {
          "model_module": "@jupyter-widgets/controls",
          "model_name": "FloatProgressModel",
          "model_module_version": "1.5.0",
          "state": {
            "_dom_classes": [],
            "_model_module": "@jupyter-widgets/controls",
            "_model_module_version": "1.5.0",
            "_model_name": "FloatProgressModel",
            "_view_count": null,
            "_view_module": "@jupyter-widgets/controls",
            "_view_module_version": "1.5.0",
            "_view_name": "ProgressView",
            "bar_style": "success",
            "description": "",
            "description_tooltip": null,
            "layout": "IPY_MODEL_fac0c0afef374a089fe1655d08f854d3",
            "max": 1985,
            "min": 0,
            "orientation": "horizontal",
            "style": "IPY_MODEL_84817fe545814d29b6fcb250cae49248",
            "value": 1985
          }
        },
        "8b8300113de1494da33d3735bf5ef78a": {
          "model_module": "@jupyter-widgets/controls",
          "model_name": "HTMLModel",
          "model_module_version": "1.5.0",
          "state": {
            "_dom_classes": [],
            "_model_module": "@jupyter-widgets/controls",
            "_model_module_version": "1.5.0",
            "_model_name": "HTMLModel",
            "_view_count": null,
            "_view_module": "@jupyter-widgets/controls",
            "_view_module_version": "1.5.0",
            "_view_name": "HTMLView",
            "description": "",
            "description_tooltip": null,
            "layout": "IPY_MODEL_3783b861a8be45349e1ed0f92915dcfb",
            "placeholder": "​",
            "style": "IPY_MODEL_f357a7b842da4d56a98a4231b4437055",
            "value": " 1985/1985 [00:00&lt;00:00, 18509.60 examples/s]"
          }
        },
        "079ab66b83a1495c956aaa867cd568fd": {
          "model_module": "@jupyter-widgets/base",
          "model_name": "LayoutModel",
          "model_module_version": "1.2.0",
          "state": {
            "_model_module": "@jupyter-widgets/base",
            "_model_module_version": "1.2.0",
            "_model_name": "LayoutModel",
            "_view_count": null,
            "_view_module": "@jupyter-widgets/base",
            "_view_module_version": "1.2.0",
            "_view_name": "LayoutView",
            "align_content": null,
            "align_items": null,
            "align_self": null,
            "border": null,
            "bottom": null,
            "display": null,
            "flex": null,
            "flex_flow": null,
            "grid_area": null,
            "grid_auto_columns": null,
            "grid_auto_flow": null,
            "grid_auto_rows": null,
            "grid_column": null,
            "grid_gap": null,
            "grid_row": null,
            "grid_template_areas": null,
            "grid_template_columns": null,
            "grid_template_rows": null,
            "height": null,
            "justify_content": null,
            "justify_items": null,
            "left": null,
            "margin": null,
            "max_height": null,
            "max_width": null,
            "min_height": null,
            "min_width": null,
            "object_fit": null,
            "object_position": null,
            "order": null,
            "overflow": null,
            "overflow_x": null,
            "overflow_y": null,
            "padding": null,
            "right": null,
            "top": null,
            "visibility": null,
            "width": null
          }
        },
        "e3f18c7bc0284272b308156195c03439": {
          "model_module": "@jupyter-widgets/base",
          "model_name": "LayoutModel",
          "model_module_version": "1.2.0",
          "state": {
            "_model_module": "@jupyter-widgets/base",
            "_model_module_version": "1.2.0",
            "_model_name": "LayoutModel",
            "_view_count": null,
            "_view_module": "@jupyter-widgets/base",
            "_view_module_version": "1.2.0",
            "_view_name": "LayoutView",
            "align_content": null,
            "align_items": null,
            "align_self": null,
            "border": null,
            "bottom": null,
            "display": null,
            "flex": null,
            "flex_flow": null,
            "grid_area": null,
            "grid_auto_columns": null,
            "grid_auto_flow": null,
            "grid_auto_rows": null,
            "grid_column": null,
            "grid_gap": null,
            "grid_row": null,
            "grid_template_areas": null,
            "grid_template_columns": null,
            "grid_template_rows": null,
            "height": null,
            "justify_content": null,
            "justify_items": null,
            "left": null,
            "margin": null,
            "max_height": null,
            "max_width": null,
            "min_height": null,
            "min_width": null,
            "object_fit": null,
            "object_position": null,
            "order": null,
            "overflow": null,
            "overflow_x": null,
            "overflow_y": null,
            "padding": null,
            "right": null,
            "top": null,
            "visibility": null,
            "width": null
          }
        },
        "ec3380495bba41f7a2f3a4a0b63cb0e0": {
          "model_module": "@jupyter-widgets/controls",
          "model_name": "DescriptionStyleModel",
          "model_module_version": "1.5.0",
          "state": {
            "_model_module": "@jupyter-widgets/controls",
            "_model_module_version": "1.5.0",
            "_model_name": "DescriptionStyleModel",
            "_view_count": null,
            "_view_module": "@jupyter-widgets/base",
            "_view_module_version": "1.2.0",
            "_view_name": "StyleView",
            "description_width": ""
          }
        },
        "fac0c0afef374a089fe1655d08f854d3": {
          "model_module": "@jupyter-widgets/base",
          "model_name": "LayoutModel",
          "model_module_version": "1.2.0",
          "state": {
            "_model_module": "@jupyter-widgets/base",
            "_model_module_version": "1.2.0",
            "_model_name": "LayoutModel",
            "_view_count": null,
            "_view_module": "@jupyter-widgets/base",
            "_view_module_version": "1.2.0",
            "_view_name": "LayoutView",
            "align_content": null,
            "align_items": null,
            "align_self": null,
            "border": null,
            "bottom": null,
            "display": null,
            "flex": null,
            "flex_flow": null,
            "grid_area": null,
            "grid_auto_columns": null,
            "grid_auto_flow": null,
            "grid_auto_rows": null,
            "grid_column": null,
            "grid_gap": null,
            "grid_row": null,
            "grid_template_areas": null,
            "grid_template_columns": null,
            "grid_template_rows": null,
            "height": null,
            "justify_content": null,
            "justify_items": null,
            "left": null,
            "margin": null,
            "max_height": null,
            "max_width": null,
            "min_height": null,
            "min_width": null,
            "object_fit": null,
            "object_position": null,
            "order": null,
            "overflow": null,
            "overflow_x": null,
            "overflow_y": null,
            "padding": null,
            "right": null,
            "top": null,
            "visibility": null,
            "width": null
          }
        },
        "84817fe545814d29b6fcb250cae49248": {
          "model_module": "@jupyter-widgets/controls",
          "model_name": "ProgressStyleModel",
          "model_module_version": "1.5.0",
          "state": {
            "_model_module": "@jupyter-widgets/controls",
            "_model_module_version": "1.5.0",
            "_model_name": "ProgressStyleModel",
            "_view_count": null,
            "_view_module": "@jupyter-widgets/base",
            "_view_module_version": "1.2.0",
            "_view_name": "StyleView",
            "bar_color": null,
            "description_width": ""
          }
        },
        "3783b861a8be45349e1ed0f92915dcfb": {
          "model_module": "@jupyter-widgets/base",
          "model_name": "LayoutModel",
          "model_module_version": "1.2.0",
          "state": {
            "_model_module": "@jupyter-widgets/base",
            "_model_module_version": "1.2.0",
            "_model_name": "LayoutModel",
            "_view_count": null,
            "_view_module": "@jupyter-widgets/base",
            "_view_module_version": "1.2.0",
            "_view_name": "LayoutView",
            "align_content": null,
            "align_items": null,
            "align_self": null,
            "border": null,
            "bottom": null,
            "display": null,
            "flex": null,
            "flex_flow": null,
            "grid_area": null,
            "grid_auto_columns": null,
            "grid_auto_flow": null,
            "grid_auto_rows": null,
            "grid_column": null,
            "grid_gap": null,
            "grid_row": null,
            "grid_template_areas": null,
            "grid_template_columns": null,
            "grid_template_rows": null,
            "height": null,
            "justify_content": null,
            "justify_items": null,
            "left": null,
            "margin": null,
            "max_height": null,
            "max_width": null,
            "min_height": null,
            "min_width": null,
            "object_fit": null,
            "object_position": null,
            "order": null,
            "overflow": null,
            "overflow_x": null,
            "overflow_y": null,
            "padding": null,
            "right": null,
            "top": null,
            "visibility": null,
            "width": null
          }
        },
        "f357a7b842da4d56a98a4231b4437055": {
          "model_module": "@jupyter-widgets/controls",
          "model_name": "DescriptionStyleModel",
          "model_module_version": "1.5.0",
          "state": {
            "_model_module": "@jupyter-widgets/controls",
            "_model_module_version": "1.5.0",
            "_model_name": "DescriptionStyleModel",
            "_view_count": null,
            "_view_module": "@jupyter-widgets/base",
            "_view_module_version": "1.2.0",
            "_view_name": "StyleView",
            "description_width": ""
          }
        }
      }
    },
    "accelerator": "GPU"
  },
  "nbformat": 4,
  "nbformat_minor": 0
}